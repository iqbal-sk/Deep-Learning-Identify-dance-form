{
  "nbformat": 4,
  "nbformat_minor": 0,
  "metadata": {
    "accelerator": "GPU",
    "colab": {
      "name": "Identify-dance-form.ipynb",
      "provenance": [],
      "collapsed_sections": []
    },
    "kernelspec": {
      "display_name": "Python 3",
      "language": "python",
      "name": "python3"
    },
    "language_info": {
      "codemirror_mode": {
        "name": "ipython",
        "version": 3
      },
      "file_extension": ".py",
      "mimetype": "text/x-python",
      "name": "python",
      "nbconvert_exporter": "python",
      "pygments_lexer": "ipython3",
      "version": "3.9.4"
    }
  },
  "cells": [
    {
      "cell_type": "code",
      "metadata": {
        "id": "MiqNjCcVVYq_"
      },
      "source": [
        "import os\n",
        "import copy\n",
        "import pandas as pd\n",
        "import numpy as np\n",
        "import matplotlib.pyplot as plt\n",
        "import skimage\n",
        "import statistics\n",
        "import seaborn as sn\n",
        "from sklearn.metrics import confusion_matrix\n",
        "from sklearn.model_selection import train_test_split\n",
        "\n",
        "import torch\n",
        "import torch.nn as nn\n",
        "import torchvision\n",
        "from torchvision import transforms, utils\n",
        "from skimage import io, transform\n",
        "from sklearn.metrics import f1_score\n",
        "import torchvision.transforms.functional as functional\n",
        "from torch.utils.data import Dataset, DataLoader\n",
        "import torch.optim as optim\n",
        "from torchvision import models"
      ],
      "execution_count": null,
      "outputs": []
    },
    {
      "cell_type": "code",
      "metadata": {
        "id": "xjHH4h1Uyo6j"
      },
      "source": [
        "!cp '/content/drive/MyDrive/hackerearth/data.zip' /content/"
      ],
      "execution_count": null,
      "outputs": []
    },
    {
      "cell_type": "code",
      "metadata": {
        "colab": {
          "base_uri": "https://localhost:8080/"
        },
        "id": "iVQPjebSYLhD",
        "outputId": "36b28000-305a-477a-fdf6-01a2ef843de5"
      },
      "source": [
        "!unzip /content/data.zip"
      ],
      "execution_count": null,
      "outputs": [
        {
          "output_type": "stream",
          "text": [
            "Archive:  /content/data.zip\n",
            "replace dataset/test/508.jpg? [y]es, [n]o, [A]ll, [N]one, [r]ename: y\n",
            "  inflating: dataset/test/508.jpg    \n",
            "replace dataset/test/246.jpg? [y]es, [n]o, [A]ll, [N]one, [r]ename: A\n",
            "  inflating: dataset/test/246.jpg    \n",
            "  inflating: dataset/test/473.jpg    \n",
            "  inflating: dataset/test/485.jpg    \n",
            "  inflating: dataset/test/128.jpg    \n",
            "  inflating: dataset/test/410.jpg    \n",
            "  inflating: dataset/test/465.jpg    \n",
            "  inflating: dataset/test/196.jpg    \n",
            "  inflating: dataset/test/340.jpg    \n",
            "  inflating: dataset/test/467.jpg    \n",
            "  inflating: dataset/test/306.jpg    \n",
            "  inflating: dataset/test/171.jpg    \n",
            "  inflating: dataset/test/323.jpg    \n",
            "  inflating: dataset/test/332.jpg    \n",
            "  inflating: dataset/test/330.jpg    \n",
            "  inflating: dataset/test/170.jpg    \n",
            "  inflating: dataset/test/479.jpg    \n",
            "  inflating: dataset/test/9.jpg      \n",
            "  inflating: dataset/test/283.jpg    \n",
            "  inflating: dataset/test/114.jpg    \n",
            "  inflating: dataset/test/507.jpg    \n",
            "  inflating: dataset/test/183.jpg    \n",
            "  inflating: dataset/test/200.jpg    \n",
            "  inflating: dataset/test/457.jpg    \n",
            "  inflating: dataset/test/264.jpg    \n",
            "  inflating: dataset/test/194.jpg    \n",
            "  inflating: dataset/test/518.jpg    \n",
            "  inflating: dataset/test/175.jpg    \n",
            "  inflating: dataset/test/64.jpg     \n",
            "  inflating: dataset/test/152.jpg    \n",
            "  inflating: dataset/test/270.jpg    \n",
            "  inflating: dataset/test/125.jpg    \n",
            "  inflating: dataset/test/38.jpg     \n",
            "  inflating: dataset/test/440.jpg    \n",
            "  inflating: dataset/test/302.jpg    \n",
            "  inflating: dataset/test/394.jpg    \n",
            "  inflating: dataset/test/448.jpg    \n",
            "  inflating: dataset/test/463.jpg    \n",
            "  inflating: dataset/test/20.jpg     \n",
            "  inflating: dataset/test/301.jpg    \n",
            "  inflating: dataset/test/28.jpg     \n",
            "  inflating: dataset/test/61.jpg     \n",
            "  inflating: dataset/test/398.jpg    \n",
            "  inflating: dataset/test/349.jpg    \n",
            "  inflating: dataset/test/271.jpg    \n",
            "  inflating: dataset/test/286.jpg    \n",
            "  inflating: dataset/test/431.jpg    \n",
            "  inflating: dataset/test/316.jpg    \n",
            "  inflating: dataset/test/224.jpg    \n",
            "  inflating: dataset/test/411.jpg    \n",
            "  inflating: dataset/test/278.jpg    \n",
            "  inflating: dataset/test/456.jpg    \n",
            "  inflating: dataset/test/45.jpg     \n",
            "  inflating: dataset/test/324.jpg    \n",
            "  inflating: dataset/test/6.jpg      \n",
            "  inflating: dataset/test/59.jpg     \n",
            "  inflating: dataset/test/86.jpg     \n",
            "  inflating: dataset/test/470.jpg    \n",
            "  inflating: dataset/test/374.jpg    \n",
            "  inflating: dataset/test/132.jpg    \n",
            "  inflating: dataset/test/216.jpg    \n",
            "  inflating: dataset/test/95.jpg     \n",
            "  inflating: dataset/test/17.jpg     \n",
            "  inflating: dataset/test/162.jpg    \n",
            "  inflating: dataset/test/346.jpg    \n",
            "  inflating: dataset/test/439.jpg    \n",
            "  inflating: dataset/test/232.jpg    \n",
            "  inflating: dataset/test/150.jpg    \n",
            "  inflating: dataset/test/401.jpg    \n",
            "  inflating: dataset/test/145.jpg    \n",
            "  inflating: dataset/test/23.jpg     \n",
            "  inflating: dataset/test/514.jpg    \n",
            "  inflating: dataset/test/193.jpg    \n",
            "  inflating: dataset/test/416.jpg    \n",
            "  inflating: dataset/test/447.jpg    \n",
            "  inflating: dataset/test/220.jpg    \n",
            "  inflating: dataset/test/505.jpg    \n",
            "  inflating: dataset/test/147.jpg    \n",
            "  inflating: dataset/test/210.jpg    \n",
            "  inflating: dataset/test/40.jpg     \n",
            "  inflating: dataset/test/284.jpg    \n",
            "  inflating: dataset/test/55.jpg     \n",
            "  inflating: dataset/test/378.jpg    \n",
            "  inflating: dataset/test/520.jpg    \n",
            "  inflating: dataset/test/484.jpg    \n",
            "  inflating: dataset/test/112.jpg    \n",
            "  inflating: dataset/test/360.jpg    \n",
            "  inflating: dataset/test/317.jpg    \n",
            "  inflating: dataset/test/71.jpg     \n",
            "  inflating: dataset/test/202.jpg    \n",
            "  inflating: dataset/test/92.jpg     \n",
            "  inflating: dataset/test/11.jpg     \n",
            "  inflating: dataset/test/67.jpg     \n",
            "  inflating: dataset/test/138.jpg    \n",
            "  inflating: dataset/test/506.jpg    \n",
            "  inflating: dataset/test/146.jpg    \n",
            "  inflating: dataset/test/318.jpg    \n",
            "  inflating: dataset/test/198.jpg    \n",
            "  inflating: dataset/test/375.jpg    \n",
            "  inflating: dataset/test/41.jpg     \n",
            "  inflating: dataset/test/421.jpg    \n",
            "  inflating: dataset/test/129.jpg    \n",
            "  inflating: dataset/test/14.jpg     \n",
            "  inflating: dataset/test/460.jpg    \n",
            "  inflating: dataset/test/34.jpg     \n",
            "  inflating: dataset/test/380.jpg    \n",
            "  inflating: dataset/test/238.jpg    \n",
            "  inflating: dataset/test/392.jpg    \n",
            "  inflating: dataset/test/80.jpg     \n",
            "  inflating: dataset/test/517.jpg    \n",
            "  inflating: dataset/test/13.jpg     \n",
            "  inflating: dataset/test/189.jpg    \n",
            "  inflating: dataset/test/390.jpg    \n",
            "  inflating: dataset/test/487.jpg    \n",
            "  inflating: dataset/test/438.jpg    \n",
            "  inflating: dataset/test/482.jpg    \n",
            "  inflating: dataset/test/206.jpg    \n",
            "  inflating: dataset/test/217.jpg    \n",
            "  inflating: dataset/test/285.jpg    \n",
            "  inflating: dataset/test/385.jpg    \n",
            "  inflating: dataset/test/495.jpg    \n",
            "  inflating: dataset/test/269.jpg    \n",
            "  inflating: dataset/test/429.jpg    \n",
            "  inflating: dataset/test/291.jpg    \n",
            "  inflating: dataset/test/461.jpg    \n",
            "  inflating: dataset/test/256.jpg    \n",
            "  inflating: dataset/test/48.jpg     \n",
            "  inflating: dataset/test/290.jpg    \n",
            "  inflating: dataset/test/437.jpg    \n",
            "  inflating: dataset/test/498.jpg    \n",
            "  inflating: dataset/test/173.jpg    \n",
            "  inflating: dataset/test/280.jpg    \n",
            "  inflating: dataset/test/119.jpg    \n",
            "  inflating: dataset/test/363.jpg    \n",
            "  inflating: dataset/test/97.jpg     \n",
            "  inflating: dataset/test/414.jpg    \n",
            "  inflating: dataset/test/386.jpg    \n",
            "  inflating: dataset/test/424.jpg    \n",
            "  inflating: dataset/test/157.jpg    \n",
            "  inflating: dataset/test/33.jpg     \n",
            "  inflating: dataset/test/354.jpg    \n",
            "  inflating: dataset/test/57.jpg     \n",
            "  inflating: dataset/test/108.jpg    \n",
            "  inflating: dataset/test/239.jpg    \n",
            "  inflating: dataset/test/441.jpg    \n",
            "  inflating: dataset/test/215.jpg    \n",
            "  inflating: dataset/test/373.jpg    \n",
            "  inflating: dataset/test/292.jpg    \n",
            "  inflating: dataset/test/110.jpg    \n",
            "  inflating: dataset/test/510.jpg    \n",
            "  inflating: dataset/test/275.jpg    \n",
            "  inflating: dataset/test/366.jpg    \n",
            "  inflating: dataset/test/226.jpg    \n",
            "  inflating: dataset/test/35.jpg     \n",
            "  inflating: dataset/test/458.jpg    \n",
            "  inflating: dataset/test/358.jpg    \n",
            "  inflating: dataset/train/96.jpg    \n",
            "  inflating: dataset/train/163.jpg   \n",
            "  inflating: dataset/train/450.jpg   \n",
            "  inflating: dataset/train/219.jpg   \n",
            "  inflating: dataset/train/455.jpg   \n",
            "  inflating: dataset/train/46.jpg    \n",
            "  inflating: dataset/train/326.jpg   \n",
            "  inflating: dataset/train/408.jpg   \n",
            "  inflating: dataset/train/365.jpg   \n",
            "  inflating: dataset/train/422.jpg   \n",
            "  inflating: dataset/train/397.jpg   \n",
            "  inflating: dataset/train/400.jpg   \n",
            "  inflating: dataset/train/32.jpg    \n",
            "  inflating: dataset/train/350.jpg   \n",
            "  inflating: dataset/train/234.jpg   \n",
            "  inflating: dataset/train/492.jpg   \n",
            "  inflating: dataset/train/333.jpg   \n",
            "  inflating: dataset/train/376.jpg   \n",
            "  inflating: dataset/train/103.jpg   \n",
            "  inflating: dataset/train/39.jpg    \n",
            "  inflating: dataset/train/87.jpg    \n",
            "  inflating: dataset/train/155.jpg   \n",
            "  inflating: dataset/train/388.jpg   \n",
            "  inflating: dataset/train/384.jpg   \n",
            "  inflating: dataset/train/248.jpg   \n",
            "  inflating: dataset/train/494.jpg   \n",
            "  inflating: dataset/train/47.jpg    \n",
            "  inflating: dataset/train/488.jpg   \n",
            "  inflating: dataset/train/462.jpg   \n",
            "  inflating: dataset/train/347.jpg   \n",
            "  inflating: dataset/train/242.jpg   \n",
            "  inflating: dataset/train/16.jpg    \n",
            "  inflating: dataset/train/178.jpg   \n",
            "  inflating: dataset/train/348.jpg   \n",
            "  inflating: dataset/train/164.jpg   \n",
            "  inflating: dataset/train/2.jpg     \n",
            "  inflating: dataset/train/141.jpg   \n",
            "  inflating: dataset/train/187.jpg   \n",
            "  inflating: dataset/train/464.jpg   \n",
            "  inflating: dataset/train/472.jpg   \n",
            "  inflating: dataset/train/489.jpg   \n",
            "  inflating: dataset/train/387.jpg   \n",
            "  inflating: dataset/train/109.jpg   \n",
            "  inflating: dataset/train/255.jpg   \n",
            "  inflating: dataset/train/274.jpg   \n",
            "  inflating: dataset/train/509.jpg   \n",
            "  inflating: dataset/train/19.jpg    \n",
            "  inflating: dataset/train/102.jpg   \n",
            "  inflating: dataset/train/24.jpg    \n",
            "  inflating: dataset/train/294.jpg   \n",
            "  inflating: dataset/train/501.jpg   \n",
            "  inflating: dataset/train/335.jpg   \n",
            "  inflating: dataset/train/321.jpg   \n",
            "  inflating: dataset/train/480.jpg   \n",
            "  inflating: dataset/train/393.jpg   \n",
            "  inflating: dataset/train/344.jpg   \n",
            "  inflating: dataset/train/259.jpg   \n",
            "  inflating: dataset/train/76.jpg    \n",
            "  inflating: dataset/train/343.jpg   \n",
            "  inflating: dataset/train/4.jpg     \n",
            "  inflating: dataset/train/486.jpg   \n",
            "  inflating: dataset/train/361.jpg   \n",
            "  inflating: dataset/train/90.jpg    \n",
            "  inflating: dataset/train/231.jpg   \n",
            "  inflating: dataset/train/331.jpg   \n",
            "  inflating: dataset/train/243.jpg   \n",
            "  inflating: dataset/train/104.jpg   \n",
            "  inflating: dataset/train/113.jpg   \n",
            "  inflating: dataset/train/21.jpg    \n",
            "  inflating: dataset/train/15.jpg    \n",
            "  inflating: dataset/train/370.jpg   \n",
            "  inflating: dataset/train/124.jpg   \n",
            "  inflating: dataset/train/241.jpg   \n",
            "  inflating: dataset/train/56.jpg    \n",
            "  inflating: dataset/train/296.jpg   \n",
            "  inflating: dataset/train/81.jpg    \n",
            "  inflating: dataset/train/29.jpg    \n",
            "  inflating: dataset/train/423.jpg   \n",
            "  inflating: dataset/train/445.jpg   \n",
            "  inflating: dataset/train/406.jpg   \n",
            "  inflating: dataset/train/116.jpg   \n",
            "  inflating: dataset/train/407.jpg   \n",
            "  inflating: dataset/train/118.jpg   \n",
            "  inflating: dataset/train/367.jpg   \n",
            "  inflating: dataset/train/30.jpg    \n",
            "  inflating: dataset/train/395.jpg   \n",
            "  inflating: dataset/train/265.jpg   \n",
            "  inflating: dataset/train/73.jpg    \n",
            "  inflating: dataset/train/277.jpg   \n",
            "  inflating: dataset/train/122.jpg   \n",
            "  inflating: dataset/train/516.jpg   \n",
            "  inflating: dataset/train/377.jpg   \n",
            "  inflating: dataset/train/513.jpg   \n",
            "  inflating: dataset/train/405.jpg   \n",
            "  inflating: dataset/train/172.jpg   \n",
            "  inflating: dataset/train/299.jpg   \n",
            "  inflating: dataset/train/149.jpg   \n",
            "  inflating: dataset/train/165.jpg   \n",
            "  inflating: dataset/train/371.jpg   \n",
            "  inflating: dataset/train/18.jpg    \n",
            "  inflating: dataset/train/213.jpg   \n",
            "  inflating: dataset/train/303.jpg   \n",
            "  inflating: dataset/train/353.jpg   \n",
            "  inflating: dataset/train/135.jpg   \n",
            "  inflating: dataset/train/481.jpg   \n",
            "  inflating: dataset/train/3.jpg     \n",
            "  inflating: dataset/train/329.jpg   \n",
            "  inflating: dataset/train/345.jpg   \n",
            "  inflating: dataset/train/443.jpg   \n",
            "  inflating: dataset/train/504.jpg   \n",
            "  inflating: dataset/train/12.jpg    \n",
            "  inflating: dataset/train/74.jpg    \n",
            "  inflating: dataset/train/185.jpg   \n",
            "  inflating: dataset/train/161.jpg   \n",
            "  inflating: dataset/train/309.jpg   \n",
            "  inflating: dataset/train/205.jpg   \n",
            "  inflating: dataset/train/379.jpg   \n",
            "  inflating: dataset/train/82.jpg    \n",
            "  inflating: dataset/train/276.jpg   \n",
            "  inflating: dataset/train/154.jpg   \n",
            "  inflating: dataset/train/254.jpg   \n",
            "  inflating: dataset/train/26.jpg    \n",
            "  inflating: dataset/train/181.jpg   \n",
            "  inflating: dataset/train/425.jpg   \n",
            "  inflating: dataset/train/131.jpg   \n",
            "  inflating: dataset/train/272.jpg   \n",
            "  inflating: dataset/train/117.jpg   \n",
            "  inflating: dataset/train/252.jpg   \n",
            "  inflating: dataset/train/180.jpg   \n",
            "  inflating: dataset/train/142.jpg   \n",
            "  inflating: dataset/train/261.jpg   \n",
            "  inflating: dataset/train/136.jpg   \n",
            "  inflating: dataset/train/85.jpg    \n",
            "  inflating: dataset/train/88.jpg    \n",
            "  inflating: dataset/train/372.jpg   \n",
            "  inflating: dataset/train/279.jpg   \n",
            "  inflating: dataset/train/313.jpg   \n",
            "  inflating: dataset/train/159.jpg   \n",
            "  inflating: dataset/train/483.jpg   \n",
            "  inflating: dataset/train/262.jpg   \n",
            "  inflating: dataset/train/519.jpg   \n",
            "  inflating: dataset/train/308.jpg   \n",
            "  inflating: dataset/train/211.jpg   \n",
            "  inflating: dataset/train/497.jpg   \n",
            "  inflating: dataset/train/325.jpg   \n",
            "  inflating: dataset/train/169.jpg   \n",
            "  inflating: dataset/train/244.jpg   \n",
            "  inflating: dataset/train/474.jpg   \n",
            "  inflating: dataset/train/322.jpg   \n",
            "  inflating: dataset/train/94.jpg    \n",
            "  inflating: dataset/train/314.jpg   \n",
            "  inflating: dataset/train/356.jpg   \n",
            "  inflating: dataset/train/22.jpg    \n",
            "  inflating: dataset/train/512.jpg   \n",
            "  inflating: dataset/train/182.jpg   \n",
            "  inflating: dataset/train/156.jpg   \n",
            "  inflating: dataset/train/289.jpg   \n",
            "  inflating: dataset/train/25.jpg    \n",
            "  inflating: dataset/train/436.jpg   \n",
            "  inflating: dataset/train/93.jpg    \n",
            "  inflating: dataset/train/336.jpg   \n",
            "  inflating: dataset/train/225.jpg   \n",
            "  inflating: dataset/train/298.jpg   \n",
            "  inflating: dataset/train/214.jpg   \n",
            "  inflating: dataset/train/27.jpg    \n",
            "  inflating: dataset/train/342.jpg   \n",
            "  inflating: dataset/train/273.jpg   \n",
            "  inflating: dataset/train/133.jpg   \n",
            "  inflating: dataset/train/168.jpg   \n",
            "  inflating: dataset/train/409.jpg   \n",
            "  inflating: dataset/train/459.jpg   \n",
            "  inflating: dataset/train/31.jpg    \n",
            "  inflating: dataset/train/468.jpg   \n",
            "  inflating: dataset/train/434.jpg   \n",
            "  inflating: dataset/train/312.jpg   \n",
            "  inflating: dataset/train/383.jpg   \n",
            "  inflating: dataset/train/476.jpg   \n",
            "  inflating: dataset/train/334.jpg   \n",
            "  inflating: dataset/train/151.jpg   \n",
            "  inflating: dataset/train/166.jpg   \n",
            "  inflating: dataset/train/227.jpg   \n",
            "  inflating: dataset/train/471.jpg   \n",
            "  inflating: dataset/train/267.jpg   \n",
            "  inflating: dataset/train/100.jpg   \n",
            "  inflating: dataset/train/446.jpg   \n",
            "  inflating: dataset/train/208.jpg   \n",
            "  inflating: dataset/train/293.jpg   \n",
            "  inflating: dataset/train/297.jpg   \n",
            "  inflating: dataset/train/412.jpg   \n",
            "  inflating: dataset/train/58.jpg    \n",
            "  inflating: dataset/train/288.jpg   \n",
            "  inflating: dataset/train/105.jpg   \n",
            "  inflating: dataset/train/477.jpg   \n",
            "  inflating: dataset/train/502.jpg   \n",
            "  inflating: dataset/train/418.jpg   \n",
            "  inflating: dataset/train/233.jpg   \n",
            "  inflating: dataset/train/134.jpg   \n",
            "  inflating: dataset/train/197.jpg   \n",
            "  inflating: dataset/train/245.jpg   \n",
            "  inflating: dataset/train/176.jpg   \n",
            "  inflating: dataset/train/203.jpg   \n",
            "  inflating: dataset/train/247.jpg   \n",
            "  inflating: dataset/train/493.jpg   \n",
            "  inflating: dataset/train/68.jpg    \n",
            "  inflating: dataset/train/442.jpg   \n",
            "  inflating: dataset/train/115.jpg   \n",
            "  inflating: dataset/train/357.jpg   \n",
            "  inflating: dataset/train/389.jpg   \n",
            "  inflating: dataset/train/218.jpg   \n",
            "  inflating: dataset/train/263.jpg   \n",
            "  inflating: dataset/train/184.jpg   \n",
            "  inflating: dataset/train/315.jpg   \n",
            "  inflating: dataset/train/295.jpg   \n",
            "  inflating: dataset/train/42.jpg    \n",
            "  inflating: dataset/train/427.jpg   \n",
            "  inflating: dataset/train/287.jpg   \n",
            "  inflating: dataset/train/430.jpg   \n",
            "  inflating: dataset/train/359.jpg   \n",
            "  inflating: dataset/train/249.jpg   \n",
            "  inflating: dataset/train/54.jpg    \n",
            "  inflating: dataset/train/305.jpg   \n",
            "  inflating: dataset/train/319.jpg   \n",
            "  inflating: dataset/train/496.jpg   \n",
            "  inflating: dataset/train/60.jpg    \n",
            "  inflating: dataset/train/37.jpg    \n",
            "  inflating: dataset/train/192.jpg   \n",
            "  inflating: dataset/train/304.jpg   \n",
            "  inflating: dataset/train/258.jpg   \n",
            "  inflating: dataset/train/364.jpg   \n",
            "  inflating: dataset/train/49.jpg    \n",
            "  inflating: dataset/train/144.jpg   \n",
            "  inflating: dataset/train/7.jpg     \n",
            "  inflating: dataset/train/98.jpg    \n",
            "  inflating: dataset/train/223.jpg   \n",
            "  inflating: dataset/train/320.jpg   \n",
            "  inflating: dataset/train/70.jpg    \n",
            "  inflating: dataset/train/426.jpg   \n",
            "  inflating: dataset/train/84.jpg    \n",
            "  inflating: dataset/train/44.jpg    \n",
            "  inflating: dataset/train/177.jpg   \n",
            "  inflating: dataset/train/50.jpg    \n",
            "  inflating: dataset/train/417.jpg   \n",
            "  inflating: dataset/train/191.jpg   \n",
            "  inflating: dataset/train/221.jpg   \n",
            "  inflating: dataset/train/500.jpg   \n",
            "  inflating: dataset/train/428.jpg   \n",
            "  inflating: dataset/train/137.jpg   \n",
            "  inflating: dataset/train/195.jpg   \n",
            "  inflating: dataset/train/413.jpg   \n",
            "  inflating: dataset/train/228.jpg   \n",
            "  inflating: dataset/train/478.jpg   \n",
            "  inflating: dataset/train/123.jpg   \n",
            "  inflating: dataset/train/369.jpg   \n",
            "  inflating: dataset/train/328.jpg   \n",
            "  inflating: dataset/train/1.jpg     \n",
            "  inflating: dataset/train/126.jpg   \n",
            "  inflating: dataset/train/503.jpg   \n",
            "  inflating: dataset/train/352.jpg   \n",
            "  inflating: dataset/train/120.jpg   \n",
            "  inflating: dataset/train/452.jpg   \n",
            "  inflating: dataset/train/339.jpg   \n",
            "  inflating: dataset/train/266.jpg   \n",
            "  inflating: dataset/train/201.jpg   \n",
            "  inflating: dataset/train/229.jpg   \n",
            "  inflating: dataset/train/402.jpg   \n",
            "  inflating: dataset/train/381.jpg   \n",
            "  inflating: dataset/train/449.jpg   \n",
            "  inflating: dataset/train/107.jpg   \n",
            "  inflating: dataset/train/444.jpg   \n",
            "  inflating: dataset/train/327.jpg   \n",
            "  inflating: dataset/train/8.jpg     \n",
            "  inflating: dataset/train/451.jpg   \n",
            "  inflating: dataset/train/77.jpg    \n",
            "  inflating: dataset/train/148.jpg   \n",
            "  inflating: dataset/train/399.jpg   \n",
            "  inflating: dataset/train/130.jpg   \n",
            "  inflating: dataset/train/362.jpg   \n",
            "  inflating: dataset/train/310.jpg   \n",
            "  inflating: dataset/train/79.jpg    \n",
            "  inflating: dataset/train/127.jpg   \n",
            "  inflating: dataset/train/237.jpg   \n",
            "  inflating: dataset/train/257.jpg   \n",
            "  inflating: dataset/train/160.jpg   \n",
            "  inflating: dataset/train/52.jpg    \n",
            "  inflating: dataset/train/190.jpg   \n",
            "  inflating: dataset/train/382.jpg   \n",
            "  inflating: dataset/train/143.jpg   \n",
            "  inflating: dataset/train/199.jpg   \n",
            "  inflating: dataset/train/282.jpg   \n",
            "  inflating: dataset/train/207.jpg   \n",
            "  inflating: dataset/train/403.jpg   \n",
            "  inflating: dataset/train/337.jpg   \n",
            "  inflating: dataset/train/355.jpg   \n",
            "  inflating: dataset/train/251.jpg   \n",
            "  inflating: dataset/train/188.jpg   \n",
            "  inflating: dataset/train/338.jpg   \n",
            "  inflating: dataset/train/341.jpg   \n",
            "  inflating: dataset/train/433.jpg   \n",
            "  inflating: dataset/train/69.jpg    \n",
            "  inflating: dataset/train/236.jpg   \n",
            "  inflating: dataset/train/106.jpg   \n",
            "  inflating: dataset/train/99.jpg    \n",
            "  inflating: dataset/train/179.jpg   \n",
            "  inflating: dataset/train/204.jpg   \n",
            "  inflating: dataset/train/300.jpg   \n",
            "  inflating: dataset/train/432.jpg   \n",
            "  inflating: dataset/train/490.jpg   \n",
            "  inflating: dataset/train/368.jpg   \n",
            "  inflating: dataset/train/153.jpg   \n",
            "  inflating: dataset/train/174.jpg   \n",
            "  inflating: dataset/train/51.jpg    \n",
            "  inflating: dataset/train/62.jpg    \n",
            "  inflating: dataset/train/420.jpg   \n",
            "  inflating: dataset/train/75.jpg    \n",
            "  inflating: dataset/train/230.jpg   \n",
            "  inflating: dataset/train/307.jpg   \n",
            "  inflating: dataset/train/212.jpg   \n",
            "  inflating: dataset/train/209.jpg   \n",
            "  inflating: dataset/train/415.jpg   \n",
            "  inflating: dataset/train/491.jpg   \n",
            "  inflating: dataset/train/453.jpg   \n",
            "  inflating: dataset/train/351.jpg   \n",
            "  inflating: dataset/train/111.jpg   \n",
            "  inflating: dataset/train/391.jpg   \n",
            "  inflating: dataset/train/515.jpg   \n",
            "  inflating: dataset/train/65.jpg    \n",
            "  inflating: dataset/train/240.jpg   \n",
            "  inflating: dataset/train/91.jpg    \n",
            "  inflating: dataset/train/222.jpg   \n",
            "  inflating: dataset/train/53.jpg    \n",
            "  inflating: dataset/train/158.jpg   \n",
            "  inflating: dataset/train/475.jpg   \n",
            "  inflating: dataset/train/121.jpg   \n",
            "  inflating: dataset/train/396.jpg   \n",
            "  inflating: dataset/train/63.jpg    \n",
            "  inflating: dataset/train/268.jpg   \n",
            "  inflating: dataset/train/78.jpg    \n",
            "  inflating: dataset/train/167.jpg   \n",
            "  inflating: dataset/train/250.jpg   \n",
            "  inflating: dataset/train/454.jpg   \n",
            "  inflating: dataset/train/186.jpg   \n",
            "  inflating: dataset/train/499.jpg   \n",
            "  inflating: dataset/train/101.jpg   \n",
            "  inflating: dataset/train/435.jpg   \n",
            "  inflating: dataset/train/469.jpg   \n",
            "  inflating: dataset/train/139.jpg   \n",
            "  inflating: dataset/train/83.jpg    \n",
            "  inflating: dataset/train/43.jpg    \n",
            "  inflating: dataset/train/281.jpg   \n",
            "  inflating: dataset/train/36.jpg    \n",
            "  inflating: dataset/train/419.jpg   \n",
            "  inflating: dataset/train/66.jpg    \n",
            "  inflating: dataset/train/260.jpg   \n",
            "  inflating: dataset/train/466.jpg   \n",
            "  inflating: dataset/train/140.jpg   \n",
            "  inflating: dataset/train/5.jpg     \n",
            "  inflating: dataset/train/10.jpg    \n",
            "  inflating: dataset/train/235.jpg   \n",
            "  inflating: dataset/train/511.jpg   \n",
            "  inflating: dataset/train/72.jpg    \n",
            "  inflating: dataset/train/253.jpg   \n",
            "  inflating: dataset/train/404.jpg   \n",
            "  inflating: dataset/train/89.jpg    \n",
            "  inflating: dataset/train/311.jpg   \n",
            "  inflating: dataset/test.csv        \n",
            "  inflating: dataset/train.csv       \n"
          ],
          "name": "stdout"
        }
      ]
    },
    {
      "cell_type": "code",
      "metadata": {
        "colab": {
          "base_uri": "https://localhost:8080/",
          "height": 202
        },
        "id": "VbMuYRgFYPkL",
        "outputId": "770b4fa9-560d-4352-94c8-f5917b149217"
      },
      "source": [
        "data_df = pd.read_csv('/content/dataset/train.csv')\n",
        "data_df.head()"
      ],
      "execution_count": null,
      "outputs": [
        {
          "output_type": "execute_result",
          "data": {
            "text/html": [
              "<div>\n",
              "<style scoped>\n",
              "    .dataframe tbody tr th:only-of-type {\n",
              "        vertical-align: middle;\n",
              "    }\n",
              "\n",
              "    .dataframe tbody tr th {\n",
              "        vertical-align: top;\n",
              "    }\n",
              "\n",
              "    .dataframe thead th {\n",
              "        text-align: right;\n",
              "    }\n",
              "</style>\n",
              "<table border=\"1\" class=\"dataframe\">\n",
              "  <thead>\n",
              "    <tr style=\"text-align: right;\">\n",
              "      <th></th>\n",
              "      <th>Image</th>\n",
              "      <th>target</th>\n",
              "    </tr>\n",
              "  </thead>\n",
              "  <tbody>\n",
              "    <tr>\n",
              "      <th>0</th>\n",
              "      <td>96.jpg</td>\n",
              "      <td>manipuri</td>\n",
              "    </tr>\n",
              "    <tr>\n",
              "      <th>1</th>\n",
              "      <td>163.jpg</td>\n",
              "      <td>bharatanatyam</td>\n",
              "    </tr>\n",
              "    <tr>\n",
              "      <th>2</th>\n",
              "      <td>450.jpg</td>\n",
              "      <td>odissi</td>\n",
              "    </tr>\n",
              "    <tr>\n",
              "      <th>3</th>\n",
              "      <td>219.jpg</td>\n",
              "      <td>kathakali</td>\n",
              "    </tr>\n",
              "    <tr>\n",
              "      <th>4</th>\n",
              "      <td>455.jpg</td>\n",
              "      <td>odissi</td>\n",
              "    </tr>\n",
              "  </tbody>\n",
              "</table>\n",
              "</div>"
            ],
            "text/plain": [
              "     Image         target\n",
              "0   96.jpg       manipuri\n",
              "1  163.jpg  bharatanatyam\n",
              "2  450.jpg         odissi\n",
              "3  219.jpg      kathakali\n",
              "4  455.jpg         odissi"
            ]
          },
          "metadata": {
            "tags": []
          },
          "execution_count": 403
        }
      ]
    },
    {
      "cell_type": "code",
      "metadata": {
        "colab": {
          "base_uri": "https://localhost:8080/"
        },
        "id": "4z7HLTFKksP6",
        "outputId": "93266630-1381-4dcc-940f-c41bd199c48c"
      },
      "source": [
        "for col in data_df.columns:\n",
        "  na_count = data_df[col].isna().sum()\n",
        "  print(\"nan values count in column {} is {}\".format(col, na_count))"
      ],
      "execution_count": null,
      "outputs": [
        {
          "output_type": "stream",
          "text": [
            "nan values count in column Image is 0\n",
            "nan values count in column target is 0\n"
          ],
          "name": "stdout"
        }
      ]
    },
    {
      "cell_type": "code",
      "metadata": {
        "id": "Pm2clQ24O3tU"
      },
      "source": [
        "dances = ['mohiniyattam', 'odissi', 'bharatanatyam', 'kathakali', 'kuchipudi', 'sattriya', 'kathak', 'manipuri' ]"
      ],
      "execution_count": null,
      "outputs": []
    },
    {
      "cell_type": "code",
      "metadata": {
        "id": "7gF5jSAa2A51"
      },
      "source": [
        "def show_images(dataframe, columns=3, rows=5):\n",
        "  fig = plt.figure(figsize=(10, 10))\n",
        "  for i in range(1, (columns*rows + 1)):\n",
        "    img = io.imread('/content/dataset/train/'+ dataframe.iloc[i, 0])\n",
        "    fig.add_subplot(rows, columns, i)\n",
        "    plt.imshow(img)\n",
        "plt.show()"
      ],
      "execution_count": null,
      "outputs": []
    },
    {
      "cell_type": "code",
      "metadata": {
        "id": "ROaVbeJDc2bk"
      },
      "source": [
        "train_folder = '/content/dataset/train/'\n",
        "\n",
        "test_folder = '/content/dataset/test/'"
      ],
      "execution_count": null,
      "outputs": []
    },
    {
      "cell_type": "code",
      "metadata": {
        "id": "quhB4CBdwSFn"
      },
      "source": [
        "dance_to_number = {'mohiniyattam' : 0, 'odissi' : 1, 'bharatanatyam' : 2, 'kathakali' : 3, 'kuchipudi' : 4, 'sattriya' : 5, 'kathak' : 6, 'manipuri' : 7 }"
      ],
      "execution_count": null,
      "outputs": []
    },
    {
      "cell_type": "markdown",
      "metadata": {
        "id": "KR-6wf7hft2v"
      },
      "source": [
        "**Custom Dataset class**"
      ]
    },
    {
      "cell_type": "code",
      "metadata": {
        "id": "LlU3Hee5eteM"
      },
      "source": [
        "class IndianDanceDataset(Dataset):\n",
        "  \"\"\"\n",
        "   Args:\n",
        "            df : Dataframe to be read.\n",
        "            image_folder (string): Directory with all the images.\n",
        "            transform (callable, optional): Optional transform to be applied\n",
        "                on a sample.\n",
        "  \"\"\"\n",
        "  def __init__(self, df, image_folder, transform = None):\n",
        "    self.dance_df = df\n",
        "    self.directory = image_folder\n",
        "    self.transform = transform\n",
        "\n",
        "  def __len__(self):\n",
        "    return len(self.dance_df)\n",
        "\n",
        "  def __getitem__(self, idx):\n",
        "    \n",
        "    img_path = os.path.join(self.directory, self.dance_df.iloc[idx, 0])\n",
        "    dance = self.dance_df.iloc[idx, 1]\n",
        "    dance = dance_to_number[dance]\n",
        "    img = io.imread(img_path)\n",
        "\n",
        "    if self.transform:\n",
        "      img, dance = self.transform((img, dance))\n",
        "\n",
        "    return (img, dance)"
      ],
      "execution_count": null,
      "outputs": []
    },
    {
      "cell_type": "markdown",
      "metadata": {
        "id": "WFKEQR6Nn1ud"
      },
      "source": [
        "**Split data_df into train and validation set**"
      ]
    },
    {
      "cell_type": "code",
      "metadata": {
        "colab": {
          "base_uri": "https://localhost:8080/"
        },
        "id": "Kq4SST2A9RVW",
        "outputId": "75a26948-4da7-4138-d3cc-913f2b8f95a7"
      },
      "source": [
        "train_df, validate_df = train_test_split(data_df, test_size=0.1)\n",
        "print(len(train_df))\n",
        "print(len(validate_df))"
      ],
      "execution_count": null,
      "outputs": [
        {
          "output_type": "stream",
          "text": [
            "327\n",
            "37\n"
          ],
          "name": "stdout"
        }
      ]
    },
    {
      "cell_type": "code",
      "metadata": {
        "id": "X2v5IZpwhY4A"
      },
      "source": [
        "# Checking IndianDanceDataset working properly and inspecting values\n",
        "train_dataset = IndianDanceDataset(df = train_df, image_folder = train_folder)\n",
        "val_dataset = IndianDanceDataset(df = validate_df, image_folder = train_folder)"
      ],
      "execution_count": null,
      "outputs": []
    },
    {
      "cell_type": "code",
      "metadata": {
        "id": "Sto7QS_FhoNV"
      },
      "source": [
        "image , label = train_dataset[0]"
      ],
      "execution_count": null,
      "outputs": []
    },
    {
      "cell_type": "code",
      "metadata": {
        "colab": {
          "base_uri": "https://localhost:8080/"
        },
        "id": "3k8E-w_Lh6Zi",
        "outputId": "5db7818f-071a-49e9-db2c-570f4ddfe3e9"
      },
      "source": [
        "print(image.shape)\n",
        "print(image.dtype)\n",
        "print(label)"
      ],
      "execution_count": null,
      "outputs": [
        {
          "output_type": "stream",
          "text": [
            "(720, 1280, 3)\n",
            "uint8\n",
            "1\n"
          ],
          "name": "stdout"
        }
      ]
    },
    {
      "cell_type": "code",
      "metadata": {
        "colab": {
          "base_uri": "https://localhost:8080/",
          "height": 264
        },
        "id": "9gd_jxqsjH3E",
        "outputId": "ebdc0849-f264-4727-f3b9-9fd47627f11d"
      },
      "source": [
        "plt.imshow(image)\n",
        "plt.title(label)\n",
        "plt.show()"
      ],
      "execution_count": null,
      "outputs": [
        {
          "output_type": "display_data",
          "data": {
            "image/png": "[encoded data removed]",
            "text/plain": [
              "<Figure size 432x288 with 1 Axes>"
            ]
          },
          "metadata": {
            "tags": []
          }
        }
      ]
    },
    {
      "cell_type": "markdown",
      "metadata": {
        "id": "_qVMOmy8vtfA"
      },
      "source": [
        "**Transormations**"
      ]
    },
    {
      "cell_type": "code",
      "metadata": {
        "id": "u8RLHG9GqMV9"
      },
      "source": [
        "class Rescale(object):\n",
        "    \"\"\"Rescale the image in a sample to a given size.\n",
        "\n",
        "    Args:\n",
        "        output_size (tuple or int): Desired output size. If tuple, output is\n",
        "            matched to output_size. If int, smaller of image edges is matched\n",
        "            to output_size keeping aspect ratio the same.\n",
        "    \"\"\"\n",
        "\n",
        "    def __init__(self, output_size):\n",
        "        assert isinstance(output_size, tuple)\n",
        "        self.output_size = output_size\n",
        "\n",
        "    def __call__(self, sample):\n",
        "        image, dance = sample\n",
        "\n",
        "        new_h, new_w = self.output_size\n",
        "\n",
        "        new_h, new_w = int(new_h), int(new_w)\n",
        "\n",
        "        img = skimage.transform.resize(image, (new_h, new_w))\n",
        "\n",
        "        return (img,dance)\n",
        "\n",
        "\n",
        "class ToTensor(object):\n",
        "  \"\"\" rotate image by 40 degree angle\n",
        "\n",
        "    Args:\n",
        "        sample : Tuple of image and it's label\n",
        "    \"\"\"\n",
        "  def __call__(self, sample):\n",
        "    img , dance = sample\n",
        "    img = img.transpose((2,0,1))\n",
        "    img = img.astype('float32')\n",
        "    img = torch.from_numpy(img)\n",
        "    dance = torch.tensor(dance)\n",
        "    return (img,dance)\n",
        "\n",
        "class Normalize(object):\n",
        "  \"\"\" Normalize data with provided mean and std\n",
        "\n",
        "    Args:\n",
        "        mean : a list of means of channels \n",
        "        std : a list of standard deviations of channels\n",
        "  \"\"\"\n",
        "  def __init__(self, mean, std):\n",
        "    self.mean = mean\n",
        "    self.std = std\n",
        "\n",
        "  def __call__(self, sample):\n",
        "    img, dance = sample\n",
        "    img = functional.normalize(img, self.mean, self.std)\n",
        "    return (img, dance)\n"
      ],
      "execution_count": null,
      "outputs": []
    },
    {
      "cell_type": "markdown",
      "metadata": {
        "id": "3mjckS4TrOZ_"
      },
      "source": [
        "**Training with given Dataset**"
      ]
    },
    {
      "cell_type": "code",
      "metadata": {
        "id": "S2WlpnqCq4KF"
      },
      "source": [
        "batch_size = 32              \n",
        "# Normalizing data with mean and standard deviations of Imagenet dataset\n",
        "dance_train = IndianDanceDataset(df = train_df,\n",
        "                                 image_folder = train_folder,\n",
        "                                 transform = transforms.Compose([Rescale((224,224)), \n",
        "                                                                 ToTensor(),\n",
        "                                                                 Normalize(mean=[0.485, 0.456, 0.406], std=[0.229, 0.224, 0.225])]))\n",
        "\n",
        "trainloader = DataLoader(dance_train, batch_size = batch_size, shuffle = True)\n",
        "\n",
        "dance_validate = IndianDanceDataset(df = validate_df,\n",
        "                                image_folder = train_folder,\n",
        "                                transform = transforms.Compose([Rescale((224,224)), \n",
        "                                                                 ToTensor(),\n",
        "                                                                 Normalize(mean=[0.485, 0.456, 0.406], std=[0.229, 0.224, 0.225])]))\n",
        "\n",
        "validate_loader = DataLoader(dance_validate, batch_size = batch_size, shuffle = True)"
      ],
      "execution_count": null,
      "outputs": []
    },
    {
      "cell_type": "code",
      "metadata": {
        "colab": {
          "base_uri": "https://localhost:8080/"
        },
        "id": "b6LNJIYJooDq",
        "outputId": "5c1ebfc4-a633-4634-ed34-97959dd7a5af"
      },
      "source": [
        "#inspecting data loader\n",
        "dataiter = iter(trainloader)\n",
        "data = dataiter.next()\n",
        "images , labels = data\n",
        "print(labels)\n",
        "\n",
        "print(images[0].shape)\n",
        "print(labels[0].item())"
      ],
      "execution_count": null,
      "outputs": [
        {
          "output_type": "stream",
          "text": [
            "tensor([1, 3, 4, 3, 7, 5, 7, 3, 6, 6, 5, 3, 0, 4, 1, 4, 4, 2, 3, 1, 6, 1, 5, 0,\n",
            "        0, 7, 4, 5, 5, 4, 0, 0])\n",
            "torch.Size([3, 224, 224])\n",
            "1\n"
          ],
          "name": "stdout"
        }
      ]
    },
    {
      "cell_type": "code",
      "metadata": {
        "id": "2EmQGV-0oaiF"
      },
      "source": [
        "vgg = models.vgg19_bn(pretrained = True)"
      ],
      "execution_count": null,
      "outputs": []
    },
    {
      "cell_type": "code",
      "metadata": {
        "colab": {
          "base_uri": "https://localhost:8080/"
        },
        "id": "BVFrdSxZoezP",
        "outputId": "ea5ab950-6d72-4ba5-bd77-b2493f498088"
      },
      "source": [
        "print(vgg)"
      ],
      "execution_count": null,
      "outputs": [
        {
          "output_type": "stream",
          "text": [
            "VGG(\n",
            "  (features): Sequential(\n",
            "    (0): Conv2d(3, 64, kernel_size=(3, 3), stride=(1, 1), padding=(1, 1))\n",
            "    (1): BatchNorm2d(64, eps=1e-05, momentum=0.1, affine=True, track_running_stats=True)\n",
            "    (2): ReLU(inplace=True)\n",
            "    (3): Conv2d(64, 64, kernel_size=(3, 3), stride=(1, 1), padding=(1, 1))\n",
            "    (4): BatchNorm2d(64, eps=1e-05, momentum=0.1, affine=True, track_running_stats=True)\n",
            "    (5): ReLU(inplace=True)\n",
            "    (6): MaxPool2d(kernel_size=2, stride=2, padding=0, dilation=1, ceil_mode=False)\n",
            "    (7): Conv2d(64, 128, kernel_size=(3, 3), stride=(1, 1), padding=(1, 1))\n",
            "    (8): BatchNorm2d(128, eps=1e-05, momentum=0.1, affine=True, track_running_stats=True)\n",
            "    (9): ReLU(inplace=True)\n",
            "    (10): Conv2d(128, 128, kernel_size=(3, 3), stride=(1, 1), padding=(1, 1))\n",
            "    (11): BatchNorm2d(128, eps=1e-05, momentum=0.1, affine=True, track_running_stats=True)\n",
            "    (12): ReLU(inplace=True)\n",
            "    (13): MaxPool2d(kernel_size=2, stride=2, padding=0, dilation=1, ceil_mode=False)\n",
            "    (14): Conv2d(128, 256, kernel_size=(3, 3), stride=(1, 1), padding=(1, 1))\n",
            "    (15): BatchNorm2d(256, eps=1e-05, momentum=0.1, affine=True, track_running_stats=True)\n",
            "    (16): ReLU(inplace=True)\n",
            "    (17): Conv2d(256, 256, kernel_size=(3, 3), stride=(1, 1), padding=(1, 1))\n",
            "    (18): BatchNorm2d(256, eps=1e-05, momentum=0.1, affine=True, track_running_stats=True)\n",
            "    (19): ReLU(inplace=True)\n",
            "    (20): Conv2d(256, 256, kernel_size=(3, 3), stride=(1, 1), padding=(1, 1))\n",
            "    (21): BatchNorm2d(256, eps=1e-05, momentum=0.1, affine=True, track_running_stats=True)\n",
            "    (22): ReLU(inplace=True)\n",
            "    (23): Conv2d(256, 256, kernel_size=(3, 3), stride=(1, 1), padding=(1, 1))\n",
            "    (24): BatchNorm2d(256, eps=1e-05, momentum=0.1, affine=True, track_running_stats=True)\n",
            "    (25): ReLU(inplace=True)\n",
            "    (26): MaxPool2d(kernel_size=2, stride=2, padding=0, dilation=1, ceil_mode=False)\n",
            "    (27): Conv2d(256, 512, kernel_size=(3, 3), stride=(1, 1), padding=(1, 1))\n",
            "    (28): BatchNorm2d(512, eps=1e-05, momentum=0.1, affine=True, track_running_stats=True)\n",
            "    (29): ReLU(inplace=True)\n",
            "    (30): Conv2d(512, 512, kernel_size=(3, 3), stride=(1, 1), padding=(1, 1))\n",
            "    (31): BatchNorm2d(512, eps=1e-05, momentum=0.1, affine=True, track_running_stats=True)\n",
            "    (32): ReLU(inplace=True)\n",
            "    (33): Conv2d(512, 512, kernel_size=(3, 3), stride=(1, 1), padding=(1, 1))\n",
            "    (34): BatchNorm2d(512, eps=1e-05, momentum=0.1, affine=True, track_running_stats=True)\n",
            "    (35): ReLU(inplace=True)\n",
            "    (36): Conv2d(512, 512, kernel_size=(3, 3), stride=(1, 1), padding=(1, 1))\n",
            "    (37): BatchNorm2d(512, eps=1e-05, momentum=0.1, affine=True, track_running_stats=True)\n",
            "    (38): ReLU(inplace=True)\n",
            "    (39): MaxPool2d(kernel_size=2, stride=2, padding=0, dilation=1, ceil_mode=False)\n",
            "    (40): Conv2d(512, 512, kernel_size=(3, 3), stride=(1, 1), padding=(1, 1))\n",
            "    (41): BatchNorm2d(512, eps=1e-05, momentum=0.1, affine=True, track_running_stats=True)\n",
            "    (42): ReLU(inplace=True)\n",
            "    (43): Conv2d(512, 512, kernel_size=(3, 3), stride=(1, 1), padding=(1, 1))\n",
            "    (44): BatchNorm2d(512, eps=1e-05, momentum=0.1, affine=True, track_running_stats=True)\n",
            "    (45): ReLU(inplace=True)\n",
            "    (46): Conv2d(512, 512, kernel_size=(3, 3), stride=(1, 1), padding=(1, 1))\n",
            "    (47): BatchNorm2d(512, eps=1e-05, momentum=0.1, affine=True, track_running_stats=True)\n",
            "    (48): ReLU(inplace=True)\n",
            "    (49): Conv2d(512, 512, kernel_size=(3, 3), stride=(1, 1), padding=(1, 1))\n",
            "    (50): BatchNorm2d(512, eps=1e-05, momentum=0.1, affine=True, track_running_stats=True)\n",
            "    (51): ReLU(inplace=True)\n",
            "    (52): MaxPool2d(kernel_size=2, stride=2, padding=0, dilation=1, ceil_mode=False)\n",
            "  )\n",
            "  (avgpool): AdaptiveAvgPool2d(output_size=(7, 7))\n",
            "  (classifier): Sequential(\n",
            "    (0): Linear(in_features=25088, out_features=4096, bias=True)\n",
            "    (1): ReLU(inplace=True)\n",
            "    (2): Dropout(p=0.5, inplace=False)\n",
            "    (3): Linear(in_features=4096, out_features=4096, bias=True)\n",
            "    (4): ReLU(inplace=True)\n",
            "    (5): Dropout(p=0.5, inplace=False)\n",
            "    (6): Linear(in_features=4096, out_features=1000, bias=True)\n",
            "  )\n",
            ")\n"
          ],
          "name": "stdout"
        }
      ]
    },
    {
      "cell_type": "code",
      "metadata": {
        "id": "kx4BPGuWzcbz"
      },
      "source": [
        "# making every parameter to be non trainable\n",
        "for param in vgg.parameters():\n",
        "  param.requires_grad = False"
      ],
      "execution_count": null,
      "outputs": []
    },
    {
      "cell_type": "code",
      "metadata": {
        "id": "PDHxSA0-zr4D"
      },
      "source": [
        "# making only last two dense layers are trainable\n",
        "vgg.classifier[3] = nn.Linear(4096,4096)\n",
        "vgg.classifier[6] = nn.Linear(4096,8)"
      ],
      "execution_count": null,
      "outputs": []
    },
    {
      "cell_type": "code",
      "metadata": {
        "colab": {
          "base_uri": "https://localhost:8080/"
        },
        "id": "-0Ty4Uy-M38G",
        "outputId": "903466df-0ba8-40e3-ff63-4767fed4585d"
      },
      "source": [
        "print(vgg)"
      ],
      "execution_count": null,
      "outputs": [
        {
          "output_type": "stream",
          "text": [
            "VGG(\n",
            "  (features): Sequential(\n",
            "    (0): Conv2d(3, 64, kernel_size=(3, 3), stride=(1, 1), padding=(1, 1))\n",
            "    (1): BatchNorm2d(64, eps=1e-05, momentum=0.1, affine=True, track_running_stats=True)\n",
            "    (2): ReLU(inplace=True)\n",
            "    (3): Conv2d(64, 64, kernel_size=(3, 3), stride=(1, 1), padding=(1, 1))\n",
            "    (4): BatchNorm2d(64, eps=1e-05, momentum=0.1, affine=True, track_running_stats=True)\n",
            "    (5): ReLU(inplace=True)\n",
            "    (6): MaxPool2d(kernel_size=2, stride=2, padding=0, dilation=1, ceil_mode=False)\n",
            "    (7): Conv2d(64, 128, kernel_size=(3, 3), stride=(1, 1), padding=(1, 1))\n",
            "    (8): BatchNorm2d(128, eps=1e-05, momentum=0.1, affine=True, track_running_stats=True)\n",
            "    (9): ReLU(inplace=True)\n",
            "    (10): Conv2d(128, 128, kernel_size=(3, 3), stride=(1, 1), padding=(1, 1))\n",
            "    (11): BatchNorm2d(128, eps=1e-05, momentum=0.1, affine=True, track_running_stats=True)\n",
            "    (12): ReLU(inplace=True)\n",
            "    (13): MaxPool2d(kernel_size=2, stride=2, padding=0, dilation=1, ceil_mode=False)\n",
            "    (14): Conv2d(128, 256, kernel_size=(3, 3), stride=(1, 1), padding=(1, 1))\n",
            "    (15): BatchNorm2d(256, eps=1e-05, momentum=0.1, affine=True, track_running_stats=True)\n",
            "    (16): ReLU(inplace=True)\n",
            "    (17): Conv2d(256, 256, kernel_size=(3, 3), stride=(1, 1), padding=(1, 1))\n",
            "    (18): BatchNorm2d(256, eps=1e-05, momentum=0.1, affine=True, track_running_stats=True)\n",
            "    (19): ReLU(inplace=True)\n",
            "    (20): Conv2d(256, 256, kernel_size=(3, 3), stride=(1, 1), padding=(1, 1))\n",
            "    (21): BatchNorm2d(256, eps=1e-05, momentum=0.1, affine=True, track_running_stats=True)\n",
            "    (22): ReLU(inplace=True)\n",
            "    (23): Conv2d(256, 256, kernel_size=(3, 3), stride=(1, 1), padding=(1, 1))\n",
            "    (24): BatchNorm2d(256, eps=1e-05, momentum=0.1, affine=True, track_running_stats=True)\n",
            "    (25): ReLU(inplace=True)\n",
            "    (26): MaxPool2d(kernel_size=2, stride=2, padding=0, dilation=1, ceil_mode=False)\n",
            "    (27): Conv2d(256, 512, kernel_size=(3, 3), stride=(1, 1), padding=(1, 1))\n",
            "    (28): BatchNorm2d(512, eps=1e-05, momentum=0.1, affine=True, track_running_stats=True)\n",
            "    (29): ReLU(inplace=True)\n",
            "    (30): Conv2d(512, 512, kernel_size=(3, 3), stride=(1, 1), padding=(1, 1))\n",
            "    (31): BatchNorm2d(512, eps=1e-05, momentum=0.1, affine=True, track_running_stats=True)\n",
            "    (32): ReLU(inplace=True)\n",
            "    (33): Conv2d(512, 512, kernel_size=(3, 3), stride=(1, 1), padding=(1, 1))\n",
            "    (34): BatchNorm2d(512, eps=1e-05, momentum=0.1, affine=True, track_running_stats=True)\n",
            "    (35): ReLU(inplace=True)\n",
            "    (36): Conv2d(512, 512, kernel_size=(3, 3), stride=(1, 1), padding=(1, 1))\n",
            "    (37): BatchNorm2d(512, eps=1e-05, momentum=0.1, affine=True, track_running_stats=True)\n",
            "    (38): ReLU(inplace=True)\n",
            "    (39): MaxPool2d(kernel_size=2, stride=2, padding=0, dilation=1, ceil_mode=False)\n",
            "    (40): Conv2d(512, 512, kernel_size=(3, 3), stride=(1, 1), padding=(1, 1))\n",
            "    (41): BatchNorm2d(512, eps=1e-05, momentum=0.1, affine=True, track_running_stats=True)\n",
            "    (42): ReLU(inplace=True)\n",
            "    (43): Conv2d(512, 512, kernel_size=(3, 3), stride=(1, 1), padding=(1, 1))\n",
            "    (44): BatchNorm2d(512, eps=1e-05, momentum=0.1, affine=True, track_running_stats=True)\n",
            "    (45): ReLU(inplace=True)\n",
            "    (46): Conv2d(512, 512, kernel_size=(3, 3), stride=(1, 1), padding=(1, 1))\n",
            "    (47): BatchNorm2d(512, eps=1e-05, momentum=0.1, affine=True, track_running_stats=True)\n",
            "    (48): ReLU(inplace=True)\n",
            "    (49): Conv2d(512, 512, kernel_size=(3, 3), stride=(1, 1), padding=(1, 1))\n",
            "    (50): BatchNorm2d(512, eps=1e-05, momentum=0.1, affine=True, track_running_stats=True)\n",
            "    (51): ReLU(inplace=True)\n",
            "    (52): MaxPool2d(kernel_size=2, stride=2, padding=0, dilation=1, ceil_mode=False)\n",
            "  )\n",
            "  (avgpool): AdaptiveAvgPool2d(output_size=(7, 7))\n",
            "  (classifier): Sequential(\n",
            "    (0): Linear(in_features=25088, out_features=4096, bias=True)\n",
            "    (1): ReLU(inplace=True)\n",
            "    (2): Dropout(p=0.5, inplace=False)\n",
            "    (3): Linear(in_features=4096, out_features=4096, bias=True)\n",
            "    (4): ReLU(inplace=True)\n",
            "    (5): Dropout(p=0.5, inplace=False)\n",
            "    (6): Linear(in_features=4096, out_features=8, bias=True)\n",
            "  )\n",
            ")\n"
          ],
          "name": "stdout"
        }
      ]
    },
    {
      "cell_type": "markdown",
      "metadata": {
        "id": "lgxFA0ow2BI1"
      },
      "source": [
        "*Trying inference*"
      ]
    },
    {
      "cell_type": "code",
      "metadata": {
        "id": "hRw38gEtokbN"
      },
      "source": [
        "outputs = vgg(images)"
      ],
      "execution_count": null,
      "outputs": []
    },
    {
      "cell_type": "code",
      "metadata": {
        "colab": {
          "base_uri": "https://localhost:8080/"
        },
        "id": "KE_i0OdCpZ54",
        "outputId": "06082d73-d938-4175-dbda-c6e9fece25a2"
      },
      "source": [
        "outputs"
      ],
      "execution_count": null,
      "outputs": [
        {
          "output_type": "execute_result",
          "data": {
            "text/plain": [
              "tensor([[ 0.1097, -0.0898, -0.0666, -0.0123,  0.1491,  0.2460, -0.0576,  0.0999],\n",
              "        [ 0.3230,  0.1920,  0.1505,  0.3567,  0.0293, -0.3645,  0.1313, -0.1388],\n",
              "        [ 0.2828,  0.1456,  0.1584,  0.1045,  0.2333,  0.4458,  0.0664,  0.0396],\n",
              "        [ 0.2321, -0.0196,  0.1728, -0.0520,  0.0945, -0.1777,  0.2518, -0.0176],\n",
              "        [-0.0747, -0.1051,  0.1398, -0.1087,  0.1041, -0.1180,  0.1675, -0.0750],\n",
              "        [ 0.0983,  0.1522,  0.0417, -0.0136,  0.0792,  0.3205,  0.1374,  0.1458],\n",
              "        [-0.1147,  0.2243,  0.2035, -0.1309,  0.4656,  0.3099,  0.3228, -0.0283],\n",
              "        [ 0.3605,  0.1494,  0.2490,  0.1353,  0.0486,  0.1709,  0.1066, -0.1445],\n",
              "        [ 0.1149, -0.0057,  0.0711, -0.1476,  0.1225, -0.0288,  0.1939,  0.0398],\n",
              "        [ 0.0219, -0.2066, -0.0654,  0.0887,  0.1172, -0.0806,  0.1991,  0.0214],\n",
              "        [ 0.4310,  0.1532,  0.0518,  0.2166, -0.0847,  0.0156,  0.0882,  0.0172],\n",
              "        [ 0.0008, -0.1405, -0.1693, -0.1394,  0.2816,  0.1695,  0.2409, -0.0117],\n",
              "        [ 0.4211, -0.0748,  0.0682,  0.0255,  0.0273,  0.1106,  0.1410, -0.0668],\n",
              "        [ 0.1616, -0.1426,  0.2090,  0.2417, -0.1186,  0.2523,  0.2197, -0.2748],\n",
              "        [ 0.1398, -0.0166,  0.1790,  0.2581, -0.1253, -0.1370,  0.0715, -0.3788],\n",
              "        [ 0.3835,  0.0291,  0.1105,  0.2384,  0.0026, -0.1028, -0.0811,  0.0695],\n",
              "        [ 0.5265, -0.0441,  0.1286,  0.0345, -0.1934, -0.0759,  0.0860, -0.1304],\n",
              "        [-0.0212,  0.0741,  0.4044,  0.1030,  0.1276, -0.1508,  0.1266,  0.0232],\n",
              "        [ 0.0459, -0.1141, -0.0474, -0.1381,  0.3104, -0.1392, -0.1562, -0.1010],\n",
              "        [ 0.2113, -0.0052, -0.0935,  0.0510,  0.3226, -0.0368, -0.0400, -0.3936],\n",
              "        [ 0.1446, -0.3478,  0.3128,  0.1212,  0.2211,  0.0454,  0.0243,  0.0279],\n",
              "        [ 0.3101,  0.0070,  0.2653, -0.1831, -0.0166,  0.0203,  0.0467, -0.1296],\n",
              "        [-0.0146, -0.1541,  0.0704,  0.1820,  0.2371, -0.0765,  0.1047,  0.0799],\n",
              "        [ 0.0592,  0.1721,  0.1385,  0.2219,  0.0414,  0.1019, -0.1299,  0.0189],\n",
              "        [ 0.0172,  0.1743, -0.0154,  0.0727, -0.1705,  0.2311,  0.1994, -0.0344],\n",
              "        [ 0.0586, -0.1789,  0.1790,  0.1014,  0.1558,  0.0615,  0.1796,  0.1469],\n",
              "        [-0.0991,  0.1352,  0.2715,  0.1336, -0.0268, -0.0165,  0.0908,  0.0430],\n",
              "        [ 0.0307, -0.1254,  0.1647, -0.0189, -0.1054, -0.1057,  0.0583, -0.0338],\n",
              "        [-0.0397,  0.1515,  0.2319,  0.0896,  0.1350, -0.1372,  0.0604, -0.1153],\n",
              "        [ 0.1369,  0.2025,  0.1642, -0.1468,  0.0578,  0.2004,  0.1869,  0.0018],\n",
              "        [ 0.0471, -0.0865,  0.0412,  0.0504, -0.0619,  0.0093, -0.0947, -0.0666],\n",
              "        [-0.1740, -0.0817,  0.0400,  0.2540,  0.1479,  0.0594,  0.1566, -0.0797]],\n",
              "       grad_fn=<AddmmBackward>)"
            ]
          },
          "metadata": {
            "tags": []
          },
          "execution_count": 424
        }
      ]
    },
    {
      "cell_type": "code",
      "metadata": {
        "id": "R5iFsybmaY6h"
      },
      "source": [
        "del outputs"
      ],
      "execution_count": null,
      "outputs": []
    },
    {
      "cell_type": "code",
      "metadata": {
        "colab": {
          "base_uri": "https://localhost:8080/"
        },
        "id": "TfvnYssm0eJB",
        "outputId": "358898b3-4f73-43b2-b08c-da908e7db588"
      },
      "source": [
        "device = torch.device(\"cuda:0\" if torch.cuda.is_available() else \"cpu\")\n",
        "print(device)"
      ],
      "execution_count": null,
      "outputs": [
        {
          "output_type": "stream",
          "text": [
            "cuda:0\n"
          ],
          "name": "stdout"
        }
      ]
    },
    {
      "cell_type": "code",
      "metadata": {
        "id": "yY5Qxobby6gV"
      },
      "source": [
        "vgg = vgg.to(device)\n",
        "loss_fn = nn.CrossEntropyLoss()\n",
        "opt = optim.Adam(vgg.parameters(), lr=0.001)"
      ],
      "execution_count": null,
      "outputs": []
    },
    {
      "cell_type": "code",
      "metadata": {
        "id": "Ra5OMVEP0PMz"
      },
      "source": [
        "def evaluation(dataloader, model):\n",
        "    total, correct = 0, 0\n",
        "    # put model in evaluation mode\n",
        "    model.eval()\n",
        "    for data in dataloader:\n",
        "        inputs, labels = data\n",
        "        inputs, labels = inputs.to(device), labels.to(device)\n",
        "        outputs = model(inputs)\n",
        "        _, pred = torch.max(outputs.data, 1)\n",
        "        total += labels.size(0)\n",
        "        correct += (pred == labels).sum().item()\n",
        "        pred1, labels1 = pred.cpu(), labels.cpu()\n",
        "        pred1, labels1 = pred1.numpy(), labels1.numpy()\n",
        "        f1 = f1_score(labels1,pred1,average='micro')\n",
        "    return [100 * f1, 100 * correct /total]"
      ],
      "execution_count": null,
      "outputs": []
    },
    {
      "cell_type": "markdown",
      "metadata": {
        "id": "ZsBrdM0B42qJ"
      },
      "source": [
        "**Train on Normal Train Data**"
      ]
    },
    {
      "cell_type": "code",
      "metadata": {
        "id": "I7u-nRTCz4CL"
      },
      "source": [
        "def train(model, trainloader, validate_loader, epochs=5, along_augumented=False, augument_loader=None):\n",
        "  \n",
        "  aug_dataiter = None\n",
        "\n",
        "\n",
        "  loss_train = []\n",
        "  loss_validate = []\n",
        "  model_for_epoch = []\n",
        "  max_epochs = epochs\n",
        "\n",
        "  train_iters = np.ceil(len(dance_train)/batch_size)\n",
        "  val_iters = np.ceil(len(dance_validate)/batch_size)\n",
        "\n",
        "  for epoch in range(max_epochs):\n",
        "      if along_augumented:\n",
        "        aug_dataiter = iter(augument_loader)\n",
        "\n",
        "      loss_epoch_arr = []\n",
        "      validate_epoch_loss_arr = []\n",
        "      # train on train-data\n",
        "      model.train()\n",
        "      for i, data in enumerate(trainloader, 0):\n",
        "\n",
        "          inputs, labels = data\n",
        "          inputs, labels = inputs.to(device), labels.to(device)\n",
        "\n",
        "          opt.zero_grad()\n",
        "\n",
        "          outputs = model(inputs)\n",
        "          loss = loss_fn(outputs, labels)\n",
        "          loss.backward()\n",
        "          opt.step()\n",
        "\n",
        "          if along_augumented:\n",
        "            aug_data = aug_dataiter.next()\n",
        "            aug_inputs, aug_labels = aug_data\n",
        "            aug_inputs, aug_labels = aug_inputs.to(device), aug_labels.to(device)\n",
        "\n",
        "            opt.zero_grad()\n",
        "\n",
        "            aug_outputs = model(aug_inputs)\n",
        "            aug_loss = loss_fn(aug_outputs, aug_labels)\n",
        "            aug_loss.backward()\n",
        "            opt.step()\n",
        "            del aug_inputs, aug_labels, aug_outputs\n",
        "            torch.cuda.empty_cache()\n",
        "            loss = (loss + aug_loss) / 2\n",
        "\n",
        "          print('Train-dataset : Iteration: %d/%d, Loss: %0.2f' % (i+1, train_iters, loss.item()))\n",
        "              \n",
        "          del inputs, labels, outputs\n",
        "          torch.cuda.empty_cache()\n",
        "          loss_epoch_arr.append(loss.item())\n",
        "          \n",
        "      loss_train.append(statistics.mean(loss_epoch_arr))\n",
        "      scores = evaluation(trainloader, model)\n",
        "\n",
        "      if along_augumented:\n",
        "        validation_scores = evaluation(augument_loader, model)\n",
        "        scores[0] = (scores[0] + validation_scores[0]) / 2\n",
        "        scores[1] = (scores[1] + validation_scores[1]) / 2\n",
        "      \n",
        "          \n",
        "      print('Epoch: %d/%d, Train score: %0.2f , Train Acc: %0.2f ' % (epoch+1, max_epochs,scores[0], scores[1]))\n",
        "\n",
        "      # calculate loss in validation-dataset\n",
        "      model.eval()\n",
        "      for i, data in enumerate(validate_loader, 0):\n",
        "\n",
        "          inputs, labels = data\n",
        "          inputs, labels = inputs.to(device), labels.to(device)\n",
        "\n",
        "          outputs = model(inputs)\n",
        "          loss = loss_fn(outputs, labels)\n",
        "\n",
        "          print('Validation-dataset : Iteration: %d/%d, Loss: %0.2f' % (i+1, val_iters, loss.item()))\n",
        "              \n",
        "          del inputs, labels, outputs\n",
        "          torch.cuda.empty_cache()\n",
        "          validate_epoch_loss_arr.append(loss.item())\n",
        "          \n",
        "      loss_validate.append(statistics.mean(validate_epoch_loss_arr))\n",
        "      \n",
        "      model_for_epoch.append(copy.deepcopy(model))\n",
        "      \n",
        "  plt.plot(loss_train)\n",
        "  plt.plot(loss_validate)\n",
        "  plt.show()\n",
        "\n",
        "  return model_for_epoch"
      ],
      "execution_count": null,
      "outputs": []
    },
    {
      "cell_type": "code",
      "metadata": {
        "colab": {
          "base_uri": "https://localhost:8080/",
          "height": 1000
        },
        "id": "np2ypb2BJCiT",
        "outputId": "2c172f07-57f2-47d6-9eae-0ebed58f547f"
      },
      "source": [
        "model_for_epoch = train(vgg, trainloader, validate_loader)"
      ],
      "execution_count": null,
      "outputs": [
        {
          "output_type": "stream",
          "text": [
            "Train-dataset : Iteration: 1/11, Loss: 2.10\n",
            "Train-dataset : Iteration: 2/11, Loss: 2.73\n",
            "Train-dataset : Iteration: 3/11, Loss: 2.18\n",
            "Train-dataset : Iteration: 4/11, Loss: 2.09\n",
            "Train-dataset : Iteration: 5/11, Loss: 1.91\n",
            "Train-dataset : Iteration: 6/11, Loss: 1.77\n",
            "Train-dataset : Iteration: 7/11, Loss: 2.31\n",
            "Train-dataset : Iteration: 8/11, Loss: 1.66\n",
            "Train-dataset : Iteration: 9/11, Loss: 1.43\n",
            "Train-dataset : Iteration: 10/11, Loss: 1.01\n",
            "Train-dataset : Iteration: 11/11, Loss: 0.65\n",
            "Epoch: 1/5, Train score: 85.71 , Train Acc: 75.54 \n",
            "Validation-dataset : Iteration: 1/2, Loss: 1.24\n",
            "Validation-dataset : Iteration: 2/2, Loss: 1.01\n",
            "Train-dataset : Iteration: 1/11, Loss: 0.92\n",
            "Train-dataset : Iteration: 2/11, Loss: 1.08\n",
            "Train-dataset : Iteration: 3/11, Loss: 0.87\n",
            "Train-dataset : Iteration: 4/11, Loss: 0.54\n",
            "Train-dataset : Iteration: 5/11, Loss: 0.58\n",
            "Train-dataset : Iteration: 6/11, Loss: 0.53\n",
            "Train-dataset : Iteration: 7/11, Loss: 0.74\n",
            "Train-dataset : Iteration: 8/11, Loss: 0.57\n",
            "Train-dataset : Iteration: 9/11, Loss: 0.90\n",
            "Train-dataset : Iteration: 10/11, Loss: 0.83\n",
            "Train-dataset : Iteration: 11/11, Loss: 0.83\n",
            "Epoch: 2/5, Train score: 85.71 , Train Acc: 91.44 \n",
            "Validation-dataset : Iteration: 1/2, Loss: 1.09\n",
            "Validation-dataset : Iteration: 2/2, Loss: 1.24\n",
            "Train-dataset : Iteration: 1/11, Loss: 0.52\n",
            "Train-dataset : Iteration: 2/11, Loss: 0.47\n",
            "Train-dataset : Iteration: 3/11, Loss: 0.29\n",
            "Train-dataset : Iteration: 4/11, Loss: 0.60\n",
            "Train-dataset : Iteration: 5/11, Loss: 0.39\n",
            "Train-dataset : Iteration: 6/11, Loss: 0.43\n",
            "Train-dataset : Iteration: 7/11, Loss: 0.27\n",
            "Train-dataset : Iteration: 8/11, Loss: 0.37\n",
            "Train-dataset : Iteration: 9/11, Loss: 0.24\n",
            "Train-dataset : Iteration: 10/11, Loss: 0.45\n",
            "Train-dataset : Iteration: 11/11, Loss: 0.16\n",
            "Epoch: 3/5, Train score: 100.00 , Train Acc: 96.02 \n",
            "Validation-dataset : Iteration: 1/2, Loss: 1.17\n",
            "Validation-dataset : Iteration: 2/2, Loss: 0.30\n",
            "Train-dataset : Iteration: 1/11, Loss: 0.24\n",
            "Train-dataset : Iteration: 2/11, Loss: 0.27\n",
            "Train-dataset : Iteration: 3/11, Loss: 0.28\n",
            "Train-dataset : Iteration: 4/11, Loss: 0.19\n",
            "Train-dataset : Iteration: 5/11, Loss: 0.14\n",
            "Train-dataset : Iteration: 6/11, Loss: 0.16\n",
            "Train-dataset : Iteration: 7/11, Loss: 0.30\n",
            "Train-dataset : Iteration: 8/11, Loss: 0.32\n",
            "Train-dataset : Iteration: 9/11, Loss: 0.27\n",
            "Train-dataset : Iteration: 10/11, Loss: 0.29\n",
            "Train-dataset : Iteration: 11/11, Loss: 0.45\n",
            "Epoch: 4/5, Train score: 100.00 , Train Acc: 100.00 \n",
            "Validation-dataset : Iteration: 1/2, Loss: 1.05\n",
            "Validation-dataset : Iteration: 2/2, Loss: 1.04\n",
            "Train-dataset : Iteration: 1/11, Loss: 0.09\n",
            "Train-dataset : Iteration: 2/11, Loss: 0.06\n",
            "Train-dataset : Iteration: 3/11, Loss: 0.24\n",
            "Train-dataset : Iteration: 4/11, Loss: 0.16\n",
            "Train-dataset : Iteration: 5/11, Loss: 0.30\n",
            "Train-dataset : Iteration: 6/11, Loss: 0.14\n",
            "Train-dataset : Iteration: 7/11, Loss: 0.08\n",
            "Train-dataset : Iteration: 8/11, Loss: 0.11\n",
            "Train-dataset : Iteration: 9/11, Loss: 0.09\n",
            "Train-dataset : Iteration: 10/11, Loss: 0.18\n",
            "Train-dataset : Iteration: 11/11, Loss: 0.30\n",
            "Epoch: 5/5, Train score: 100.00 , Train Acc: 100.00 \n",
            "Validation-dataset : Iteration: 1/2, Loss: 1.27\n",
            "Validation-dataset : Iteration: 2/2, Loss: 0.73\n"
          ],
          "name": "stdout"
        },
        {
          "output_type": "display_data",
          "data": {
            "image/png": "[encoded data removed]",
            "text/plain": [
              "<Figure size 432x288 with 1 Axes>"
            ]
          },
          "metadata": {
            "tags": []
          }
        }
      ]
    },
    {
      "cell_type": "markdown",
      "metadata": {
        "id": "pY5iVJyonYTl"
      },
      "source": [
        "**Tracking wrong predictions**"
      ]
    },
    {
      "cell_type": "code",
      "metadata": {
        "id": "9pJYYLq3nena"
      },
      "source": [
        "class Inspect_IndianDanceDataset(Dataset):\n",
        "  \"\"\"\n",
        "   Args:\n",
        "            df : Dataframe to be read.\n",
        "            image_folder (string): Directory with all the images.\n",
        "            transform (callable, optional): Optional transform to be applied\n",
        "                on a sample.\n",
        "\n",
        "            returns a tuple (image, dance, image_filename)\n",
        "  \"\"\"\n",
        "  def __init__(self, df, image_folder, transform = None):\n",
        "    self.dance_df = df\n",
        "    self.directory = image_folder\n",
        "    self.transform = transform\n",
        "\n",
        "  def __len__(self):\n",
        "    return len(self.dance_df)\n",
        "\n",
        "  def __getitem__(self,idx):\n",
        "    \n",
        "    img_path = os.path.join(self.directory,self.dance_df.iloc[idx,0])\n",
        "    dance = self.dance_df.iloc[idx,1]\n",
        "    dance = dance_to_number[dance]\n",
        "    img = io.imread(img_path)\n",
        "    img_name = self.dance_df.iloc[idx,0]\n",
        "\n",
        "    if self.transform:\n",
        "      img,dance = self.transform((img,dance))\n",
        "\n",
        "    return (img, dance, img_name)\n"
      ],
      "execution_count": null,
      "outputs": []
    },
    {
      "cell_type": "code",
      "metadata": {
        "id": "9NJPEGX7mZEN"
      },
      "source": [
        "# taking entire validation dataset and checking wrong predictions\n",
        "\n",
        "dance_train_test = Inspect_IndianDanceDataset(df = validate_df,\n",
        "                                 image_folder = train_folder,\n",
        "                                 transform = transforms.Compose([Rescale((224,224)),\n",
        "                                                                 ToTensor(),\n",
        "                                                                 Normalize(mean=[0.485, 0.456, 0.406], std=[0.229, 0.224, 0.225])]))\n",
        "\n",
        "inspect_dataloader = DataLoader(dance_train_test, batch_size = 1, shuffle = False)"
      ],
      "execution_count": null,
      "outputs": []
    },
    {
      "cell_type": "code",
      "metadata": {
        "id": "v9FoWB0AlRUc"
      },
      "source": [
        "def inspect_data(dataloader, model):\n",
        "  actuals = []\n",
        "  predicts = []\n",
        "  for data in dataloader :\n",
        "    inputs , org_dance_no, img_name = data\n",
        "    inputs = inputs.to(device)\n",
        "    outputs = model(inputs)\n",
        "    _, pred = torch.max(outputs.data, 1)\n",
        "\n",
        "    pred_dance = number_to_dance[pred.item()]\n",
        "    actual_dance = number_to_dance[org_dance_no.item()]\n",
        "\n",
        "    actuals.append(actual_dance)\n",
        "    predicts.append(pred_dance)\n",
        "\n",
        "    if pred_dance != actual_dance:\n",
        "      print('Predicted: ',pred_dance,',    Actual: ',actual_dance, ',  image Name: ',img_name[0])\n",
        "    \n",
        "  return actuals, predicts\n"
      ],
      "execution_count": null,
      "outputs": []
    },
    {
      "cell_type": "code",
      "metadata": {
        "id": "HQ85wa5u5QoM"
      },
      "source": [
        "number_to_dance = {0 :'mohiniyattam', 1 :'odissi', 2 :'bharatanatyam', 3 : 'kathakali' ,\n",
        "                   4 : 'kuchipudi', 5 : 'sattriya', 6 : 'kathak' , 7 : 'manipuri'}"
      ],
      "execution_count": null,
      "outputs": []
    },
    {
      "cell_type": "code",
      "metadata": {
        "colab": {
          "base_uri": "https://localhost:8080/"
        },
        "id": "bSVJG-v2mByy",
        "outputId": "cfb5b321-9281-4ec8-bd4a-f6b3c28349d1"
      },
      "source": [
        "# taking best_epoch for inspecting\n",
        "\n",
        "model_to_test = model_for_epoch[2]\n",
        "y_true, y_pred = inspect_data(inspect_dataloader, model_to_test)"
      ],
      "execution_count": null,
      "outputs": [
        {
          "output_type": "stream",
          "text": [
            "Predicted:  mohiniyattam ,    Actual:  odissi ,  image Name:  489.jpg\n",
            "Predicted:  kuchipudi ,    Actual:  bharatanatyam ,  image Name:  168.jpg\n",
            "Predicted:  odissi ,    Actual:  bharatanatyam ,  image Name:  120.jpg\n"
          ],
          "name": "stdout"
        }
      ]
    },
    {
      "cell_type": "code",
      "metadata": {
        "colab": {
          "base_uri": "https://localhost:8080/"
        },
        "id": "BTCmMo0XlmjZ",
        "outputId": "312318c3-e792-4b25-efe0-be7865e20de4"
      },
      "source": [
        "print(*dances)\n",
        "cm = confusion_matrix(y_true, y_pred, labels = dances)"
      ],
      "execution_count": null,
      "outputs": [
        {
          "output_type": "stream",
          "text": [
            "mohiniyattam odissi bharatanatyam kathakali kuchipudi sattriya kathak manipuri\n"
          ],
          "name": "stdout"
        }
      ]
    },
    {
      "cell_type": "code",
      "metadata": {
        "colab": {
          "base_uri": "https://localhost:8080/",
          "height": 382
        },
        "id": "39V1PKRYE_fg",
        "outputId": "567603b1-efa7-46fa-fc8f-c56442cb0f0a"
      },
      "source": [
        "df_cm = pd.DataFrame(cm, dances, dances)\n",
        "# plt.figure(figsize=(10,7))\n",
        "sn.set(font_scale=1.4) # for label size\n",
        "sn.heatmap(df_cm, annot=True, annot_kws={\"size\": 16}) # font size\n",
        "plt.show()"
      ],
      "execution_count": null,
      "outputs": [
        {
          "output_type": "display_data",
          "data": {
            "image/png": "[encoded data removed]",
            "text/plain": [
              "<Figure size 432x288 with 2 Axes>"
            ]
          },
          "metadata": {
            "tags": []
          }
        }
      ]
    },
    {
      "cell_type": "markdown",
      "metadata": {
        "id": "irmLjg1gF318"
      },
      "source": [
        "**Train Along with augumented Data**"
      ]
    },
    {
      "cell_type": "code",
      "metadata": {
        "id": "La414GRZF89r"
      },
      "source": [
        "class Rotate(object):\n",
        "  \"\"\" rotate image by 40 degree angle\n",
        "\n",
        "    Args:\n",
        "        sample : Tuple of image and it's label\n",
        "    \"\"\"\n",
        "  def __call__(self, sample):\n",
        "    img, dance = sample\n",
        "    img = skimage.transform.rotate(img,angle = 40, mode='wrap')\n",
        "    \n",
        "    return (img,dance)\n",
        "\n",
        "\n",
        "class Flip_and_ToTensor(object):\n",
        "  \"\"\" Flip image horizontally and transform to tensor\n",
        "\n",
        "    Args:\n",
        "        sample : Tuple of image and it's label\n",
        "    \"\"\"\n",
        "  def __call__(self, sample):\n",
        "    img , dance = sample\n",
        "\n",
        "    img = np.fliplr(img)  #horizontal flip of image\n",
        "    \n",
        "    #transform to Tensor\n",
        "    img = img.transpose((2,0,1))\n",
        "    img = img.astype('float32')\n",
        "    img = torch.from_numpy(img)\n",
        "    dance = torch.tensor(dance)\n",
        "    return (img,dance)"
      ],
      "execution_count": null,
      "outputs": []
    },
    {
      "cell_type": "code",
      "metadata": {
        "id": "yqWeo4gVGfeH"
      },
      "source": [
        "# Actual Data\n",
        "batch_size = 32              \n",
        "dance_train = IndianDanceDataset(df = train_df,\n",
        "                                 image_folder = train_folder,\n",
        "                                 transform = transforms.Compose([Rescale((224,224)), \n",
        "                                                                 ToTensor(),\n",
        "                                                                 Normalize(mean=[0.485, 0.456, 0.406], std=[0.229, 0.224, 0.225])]))\n",
        "\n",
        "trainloader = DataLoader(dance_train, batch_size = batch_size, shuffle = True)\n",
        "\n",
        "dance_validate = IndianDanceDataset(df = validate_df,\n",
        "                                image_folder = train_folder,\n",
        "                                transform = transforms.Compose([Rescale((224,224)), \n",
        "                                                                 ToTensor(),\n",
        "                                                                 Normalize(mean=[0.485, 0.456, 0.406], std=[0.229, 0.224, 0.225])]))\n",
        "\n",
        "validate_loader = DataLoader(dance_validate, batch_size = batch_size, shuffle = True)"
      ],
      "execution_count": null,
      "outputs": []
    },
    {
      "cell_type": "code",
      "metadata": {
        "id": "WTqqJf2fGmXX"
      },
      "source": [
        "# Augumented Data\n",
        "augumented_dance_train = IndianDanceDataset(df = train_df,\n",
        "                                 image_folder = train_folder,\n",
        "                                 transform = transforms.Compose([Rescale((224,224)), \n",
        "                                                                 Flip_and_ToTensor(),\n",
        "                                                                 Normalize(mean=[0.485, 0.456, 0.406], std=[0.229, 0.224, 0.225])]))\n",
        "\n",
        "augumented_trainloader = DataLoader(augumented_dance_train, batch_size = batch_size, shuffle = True)"
      ],
      "execution_count": null,
      "outputs": []
    },
    {
      "cell_type": "code",
      "metadata": {
        "id": "afUb4vPwJ2d0"
      },
      "source": [
        "vgg_2 = models.vgg19_bn(pretrained = True)"
      ],
      "execution_count": null,
      "outputs": []
    },
    {
      "cell_type": "code",
      "metadata": {
        "id": "yM3wckOHKNwR"
      },
      "source": [
        "# making every parameter to be non trainable\n",
        "for param in vgg_2.parameters():\n",
        "  param.requires_grad = False\n",
        "\n",
        "# making only last two layers as trainable\n",
        "vgg_2.classifier[3] = nn.Linear(4096,4096)\n",
        "vgg_2.classifier[6] = nn.Linear(4096,8)"
      ],
      "execution_count": null,
      "outputs": []
    },
    {
      "cell_type": "code",
      "metadata": {
        "id": "8yZMETDdLeF4"
      },
      "source": [
        "vgg_2 = vgg_2.to(device)\n",
        "loss_fn = nn.CrossEntropyLoss() \n",
        "opt = optim.Adam(vgg_2.parameters(), lr=0.001) # adam optimizer"
      ],
      "execution_count": null,
      "outputs": []
    },
    {
      "cell_type": "code",
      "metadata": {
        "colab": {
          "base_uri": "https://localhost:8080/",
          "height": 1000
        },
        "id": "HPhi1vzvJ1RL",
        "outputId": "60f8e98d-5e24-444e-f86d-3b441ebbc442"
      },
      "source": [
        "aug_model_for_epoch = train(vgg_2,trainloader=augumented_trainloader, validate_loader=validate_loader, epochs=3, along_augumented=True, augument_loader=augumented_trainloader)"
      ],
      "execution_count": null,
      "outputs": [
        {
          "output_type": "stream",
          "text": [
            "Train-dataset : Iteration: 1/11, Loss: 2.10\n",
            "Train-dataset : Iteration: 2/11, Loss: 1.70\n",
            "Train-dataset : Iteration: 3/11, Loss: 1.46\n",
            "Train-dataset : Iteration: 4/11, Loss: 1.18\n",
            "Train-dataset : Iteration: 5/11, Loss: 1.24\n",
            "Train-dataset : Iteration: 6/11, Loss: 1.11\n",
            "Train-dataset : Iteration: 7/11, Loss: 1.05\n",
            "Train-dataset : Iteration: 8/11, Loss: 0.79\n",
            "Train-dataset : Iteration: 9/11, Loss: 0.93\n",
            "Train-dataset : Iteration: 10/11, Loss: 0.51\n",
            "Train-dataset : Iteration: 11/11, Loss: 1.03\n",
            "Epoch: 1/3, Train score: 71.43 , Train Acc: 81.35 \n",
            "Validation-dataset : Iteration: 1/2, Loss: 1.48\n",
            "Validation-dataset : Iteration: 2/2, Loss: 2.19\n",
            "Train-dataset : Iteration: 1/11, Loss: 0.47\n",
            "Train-dataset : Iteration: 2/11, Loss: 0.27\n",
            "Train-dataset : Iteration: 3/11, Loss: 0.45\n",
            "Train-dataset : Iteration: 4/11, Loss: 0.33\n",
            "Train-dataset : Iteration: 5/11, Loss: 0.37\n",
            "Train-dataset : Iteration: 6/11, Loss: 0.26\n",
            "Train-dataset : Iteration: 7/11, Loss: 0.23\n",
            "Train-dataset : Iteration: 8/11, Loss: 0.20\n",
            "Train-dataset : Iteration: 9/11, Loss: 0.36\n",
            "Train-dataset : Iteration: 10/11, Loss: 0.33\n",
            "Train-dataset : Iteration: 11/11, Loss: 0.35\n",
            "Epoch: 2/3, Train score: 100.00 , Train Acc: 99.08 \n",
            "Validation-dataset : Iteration: 1/2, Loss: 1.58\n",
            "Validation-dataset : Iteration: 2/2, Loss: 0.50\n",
            "Train-dataset : Iteration: 1/11, Loss: 0.24\n",
            "Train-dataset : Iteration: 2/11, Loss: 0.25\n",
            "Train-dataset : Iteration: 3/11, Loss: 0.21\n",
            "Train-dataset : Iteration: 4/11, Loss: 0.12\n",
            "Train-dataset : Iteration: 5/11, Loss: 0.10\n",
            "Train-dataset : Iteration: 6/11, Loss: 0.20\n",
            "Train-dataset : Iteration: 7/11, Loss: 0.05\n",
            "Train-dataset : Iteration: 8/11, Loss: 0.21\n",
            "Train-dataset : Iteration: 9/11, Loss: 0.10\n",
            "Train-dataset : Iteration: 10/11, Loss: 0.06\n",
            "Train-dataset : Iteration: 11/11, Loss: 0.23\n",
            "Epoch: 3/3, Train score: 100.00 , Train Acc: 98.47 \n",
            "Validation-dataset : Iteration: 1/2, Loss: 1.64\n",
            "Validation-dataset : Iteration: 2/2, Loss: 2.65\n"
          ],
          "name": "stdout"
        },
        {
          "output_type": "display_data",
          "data": {
            "image/png": "[encoded data removed]",
            "text/plain": [
              "<Figure size 432x288 with 1 Axes>"
            ]
          },
          "metadata": {
            "tags": []
          }
        }
      ]
    },
    {
      "cell_type": "code",
      "metadata": {
        "id": "UWS41z-kXaSi"
      },
      "source": [
        "aug_model_to_test = aug_model_for_epoch[1]"
      ],
      "execution_count": null,
      "outputs": []
    },
    {
      "cell_type": "markdown",
      "metadata": {
        "id": "PqVWMjJ63lzI"
      },
      "source": [
        "**Track wrong predictions in valiation set using model trained on Augumented data**"
      ]
    },
    {
      "cell_type": "code",
      "metadata": {
        "colab": {
          "base_uri": "https://localhost:8080/"
        },
        "id": "cZlBKWOzXkXm",
        "outputId": "be12c0ba-3d46-46ed-c294-a8243950a384"
      },
      "source": [
        "y_true, y_pred = inspect_data(inspect_dataloader, aug_model_to_test)"
      ],
      "execution_count": null,
      "outputs": [
        {
          "output_type": "stream",
          "text": [
            "Predicted:  mohiniyattam ,    Actual:  odissi ,  image Name:  489.jpg\n",
            "Predicted:  odissi ,    Actual:  sattriya ,  image Name:  333.jpg\n",
            "Predicted:  odissi ,    Actual:  manipuri ,  image Name:  87.jpg\n",
            "Predicted:  odissi ,    Actual:  kuchipudi ,  image Name:  442.jpg\n",
            "Predicted:  odissi ,    Actual:  bharatanatyam ,  image Name:  120.jpg\n"
          ],
          "name": "stdout"
        }
      ]
    },
    {
      "cell_type": "code",
      "metadata": {
        "colab": {
          "base_uri": "https://localhost:8080/",
          "height": 382
        },
        "id": "HlmHOAG3UfpN",
        "outputId": "076220b4-f255-4550-829e-cd3013f1f776"
      },
      "source": [
        "cm = confusion_matrix(y_true, y_pred, labels = dances)\n",
        "df_cm = pd.DataFrame(cm, dances, dances)\n",
        "# plt.figure(figsize=(10,7))\n",
        "sn.set(font_scale=1.4) # for label size\n",
        "sn.heatmap(df_cm, annot=True, annot_kws={\"size\": 16}) # font size\n",
        "plt.show()"
      ],
      "execution_count": null,
      "outputs": [
        {
          "output_type": "display_data",
          "data": {
            "image/png": "[encoded data removed]",
            "text/plain": [
              "<Figure size 432x288 with 2 Axes>"
            ]
          },
          "metadata": {
            "tags": []
          }
        }
      ]
    },
    {
      "cell_type": "markdown",
      "metadata": {
        "id": "s-2knzy533is"
      },
      "source": [
        "# **Conclusion**\n",
        "Both models trained on actual and augumented d ata having same performance on validation set and both are pretty good"
      ]
    },
    {
      "cell_type": "markdown",
      "metadata": {
        "id": "v6wKnrzG9NeV"
      },
      "source": [
        "**Testing with test data**"
      ]
    },
    {
      "cell_type": "code",
      "metadata": {
        "id": "xgG0lfp65QrZ"
      },
      "source": [
        "class testDataset(Dataset):\n",
        "  \"\"\"\n",
        "   Args:\n",
        "            csv_file (string): Path to the csv file with annotations.\n",
        "            root_dir (string): Directory with all the images.\n",
        "            transform (callable, optional): Optional transform to be applied\n",
        "                on a sample.\n",
        "  \"\"\"\n",
        "  def __init__(self, csv_path, image_folder, transform = None):\n",
        "    self.dance_df = pd.read_csv(csv_path)\n",
        "    self.directory = image_folder\n",
        "    self.transform = transform\n",
        "\n",
        "  def __len__(self):\n",
        "    return len(self.dance_df)\n",
        "\n",
        "  def __getitem__(self,idx):\n",
        "    \n",
        "    img_name = self.dance_df.iloc[idx,0]\n",
        "    img_path = os.path.join(self.directory,self.dance_df.iloc[idx,0])\n",
        "    img = io.imread(img_path)\n",
        "\n",
        "    if self.transform:\n",
        "      img = self.transform(img)\n",
        "\n",
        "    return (img,img_name)\n"
      ],
      "execution_count": null,
      "outputs": []
    },
    {
      "cell_type": "code",
      "metadata": {
        "id": "R5iaD6gk5QuS"
      },
      "source": [
        "class TestRescale(object):\n",
        "    \"\"\"Rescale the image in a sample to a given size.\n",
        "\n",
        "    Args:\n",
        "        output_size (tuple or int): Desired output size. If tuple, output is\n",
        "            matched to output_size. If int, smaller of image edges is matched\n",
        "            to output_size keeping aspect ratio the same.\n",
        "    \"\"\"\n",
        "\n",
        "    def __init__(self, output_size):\n",
        "        assert isinstance(output_size, tuple)\n",
        "        self.output_size = output_size\n",
        "\n",
        "    def __call__(self, image):\n",
        "        imge = image\n",
        "\n",
        "        new_h, new_w = self.output_size\n",
        "\n",
        "        new_h, new_w = int(new_h), int(new_w)\n",
        "\n",
        "        img = skimage.transform.resize(imge, (new_h, new_w))\n",
        "\n",
        "        return img\n",
        "\n",
        "\n",
        "class TestToTensor(object):\n",
        "  def __call__(self,image):\n",
        "    img  = image\n",
        "    img = img.transpose((2,0,1))\n",
        "    img = img.astype('float32')\n",
        "    img = torch.from_numpy(img)\n",
        "    \n",
        "    return img\n",
        "\n",
        "class TestNormalize(object):\n",
        "\n",
        "  def __init__(self, mean, std):\n",
        "    self.mean = mean\n",
        "    self.std = std\n",
        "\n",
        "  def __call__(self,image):\n",
        "    return functional.normalize(image, self.mean, self.std)\n"
      ],
      "execution_count": null,
      "outputs": []
    },
    {
      "cell_type": "code",
      "metadata": {
        "id": "fGESPPQu6O-C"
      },
      "source": [
        "test_dataset = testDataset('/content/dataset/test.csv', test_folder,\n",
        "                        transform = transforms.Compose([TestRescale((224,224)),\n",
        "                                                        TestToTensor(),\n",
        "                                                        TestNormalize(mean=[0.485, 0.456, 0.406], std=[0.229, 0.224, 0.225])]))\n",
        "\n",
        "testloader = DataLoader(test_dataset, batch_size = 1, shuffle = False)"
      ],
      "execution_count": null,
      "outputs": []
    },
    {
      "cell_type": "code",
      "metadata": {
        "colab": {
          "base_uri": "https://localhost:8080/"
        },
        "id": "sVJ3DoAb64x5",
        "outputId": "d4746048-1cd8-41c8-ccb9-c39981434e1b"
      },
      "source": [
        "for i, data in enumerate(testloader):\n",
        "  print(data[0].shape)\n",
        "  if i == 2:\n",
        "    break"
      ],
      "execution_count": null,
      "outputs": [
        {
          "output_type": "stream",
          "text": [
            "torch.Size([1, 3, 224, 224])\n",
            "torch.Size([1, 3, 224, 224])\n",
            "torch.Size([1, 3, 224, 224])\n"
          ],
          "name": "stdout"
        }
      ]
    },
    {
      "cell_type": "code",
      "metadata": {
        "id": "Hpj5JDCt0Qyu"
      },
      "source": [
        "def test(testloader,model):\n",
        "  names = []\n",
        "  ans = []\n",
        "  for data in testloader :\n",
        "    inputs , name = data\n",
        "    inputs = inputs.to(device)\n",
        "    outputs = model(inputs)\n",
        "    _, pred = torch.max(outputs.data, 1)\n",
        "\n",
        "    names.append(name[0])\n",
        "    dance = number_to_dance[pred.item()]\n",
        "\n",
        "    print(name[0] , dance)\n",
        "    ans.append(dance)\n",
        "  \n",
        "  data = {'Image': names , 'target': ans}\n",
        "  df = pd.DataFrame(data)\n",
        "\n",
        "  return df\n"
      ],
      "execution_count": null,
      "outputs": []
    },
    {
      "cell_type": "code",
      "metadata": {
        "colab": {
          "base_uri": "https://localhost:8080/"
        },
        "id": "djG353aPAn7W",
        "outputId": "b6d27ebb-cceb-416c-9fcc-642834932efd"
      },
      "source": [
        "# taking epoch 1 model because it has lower gap between train and validate loss\n",
        "model_to_test = aug_model_for_epoch[1]\n",
        "test_predictions = test(testloader, model_to_test)"
      ],
      "execution_count": null,
      "outputs": [
        {
          "output_type": "stream",
          "text": [
            "508.jpg kathak\n",
            "246.jpg mohiniyattam\n",
            "473.jpg odissi\n",
            "485.jpg odissi\n",
            "128.jpg bharatanatyam\n",
            "410.jpg kathak\n",
            "465.jpg kuchipudi\n",
            "196.jpg kathakali\n",
            "340.jpg sattriya\n",
            "467.jpg sattriya\n",
            "306.jpg mohiniyattam\n",
            "171.jpg bharatanatyam\n",
            "323.jpg sattriya\n",
            "332.jpg sattriya\n",
            "330.jpg sattriya\n",
            "170.jpg bharatanatyam\n",
            "479.jpg odissi\n",
            "9.jpg kathak\n",
            "283.jpg mohiniyattam\n",
            "114.jpg bharatanatyam\n",
            "507.jpg kuchipudi\n",
            "183.jpg kathakali\n",
            "200.jpg kathakali\n",
            "457.jpg sattriya\n",
            "264.jpg mohiniyattam\n",
            "194.jpg kathakali\n",
            "518.jpg odissi\n",
            "175.jpg bharatanatyam\n",
            "64.jpg kathak\n",
            "152.jpg sattriya\n",
            "270.jpg mohiniyattam\n",
            "125.jpg kuchipudi\n",
            "38.jpg kathak\n",
            "440.jpg bharatanatyam\n",
            "302.jpg mohiniyattam\n",
            "394.jpg kuchipudi\n",
            "448.jpg odissi\n",
            "463.jpg odissi\n",
            "20.jpg kathak\n",
            "301.jpg odissi\n",
            "28.jpg kathak\n",
            "61.jpg kathak\n",
            "398.jpg kuchipudi\n",
            "349.jpg sattriya\n",
            "271.jpg mohiniyattam\n",
            "286.jpg sattriya\n",
            "431.jpg manipuri\n",
            "316.jpg sattriya\n",
            "224.jpg kathakali\n",
            "411.jpg kuchipudi\n",
            "278.jpg mohiniyattam\n",
            "456.jpg sattriya\n",
            "45.jpg kathak\n",
            "324.jpg sattriya\n",
            "6.jpg kathak\n",
            "59.jpg sattriya\n",
            "86.jpg manipuri\n",
            "470.jpg odissi\n",
            "374.jpg kuchipudi\n",
            "132.jpg kathak\n",
            "216.jpg kathakali\n",
            "95.jpg manipuri\n",
            "17.jpg kathak\n",
            "162.jpg kuchipudi\n",
            "346.jpg sattriya\n",
            "439.jpg odissi\n",
            "232.jpg kathakali\n",
            "150.jpg odissi\n",
            "401.jpg kathak\n",
            "145.jpg odissi\n",
            "23.jpg kathak\n",
            "514.jpg kathak\n",
            "193.jpg kathakali\n",
            "416.jpg sattriya\n",
            "447.jpg odissi\n",
            "220.jpg kathakali\n",
            "505.jpg kathak\n",
            "147.jpg odissi\n",
            "210.jpg kathakali\n",
            "40.jpg kathak\n",
            "284.jpg mohiniyattam\n",
            "55.jpg kathak\n",
            "378.jpg kuchipudi\n",
            "520.jpg kathak\n",
            "484.jpg odissi\n",
            "112.jpg bharatanatyam\n",
            "360.jpg sattriya\n",
            "317.jpg kathak\n",
            "71.jpg manipuri\n",
            "202.jpg kathakali\n",
            "92.jpg manipuri\n",
            "11.jpg kathak\n",
            "67.jpg kathak\n",
            "138.jpg kathak\n",
            "506.jpg odissi\n",
            "146.jpg kuchipudi\n",
            "318.jpg sattriya\n",
            "198.jpg manipuri\n",
            "375.jpg sattriya\n",
            "41.jpg bharatanatyam\n",
            "421.jpg bharatanatyam\n",
            "129.jpg kathak\n",
            "14.jpg kathak\n",
            "460.jpg odissi\n",
            "34.jpg kathak\n",
            "380.jpg kuchipudi\n",
            "238.jpg kathakali\n",
            "392.jpg sattriya\n",
            "80.jpg manipuri\n",
            "517.jpg sattriya\n",
            "13.jpg kathak\n",
            "189.jpg kathakali\n",
            "390.jpg kuchipudi\n",
            "487.jpg odissi\n",
            "438.jpg kuchipudi\n",
            "482.jpg odissi\n",
            "206.jpg kathakali\n",
            "217.jpg kathakali\n",
            "285.jpg kathak\n",
            "385.jpg odissi\n",
            "495.jpg odissi\n",
            "269.jpg odissi\n",
            "429.jpg kuchipudi\n",
            "291.jpg mohiniyattam\n",
            "461.jpg kuchipudi\n",
            "256.jpg mohiniyattam\n",
            "48.jpg mohiniyattam\n",
            "290.jpg mohiniyattam\n",
            "437.jpg kathak\n",
            "498.jpg odissi\n",
            "173.jpg odissi\n",
            "280.jpg mohiniyattam\n",
            "119.jpg bharatanatyam\n",
            "363.jpg odissi\n",
            "97.jpg manipuri\n",
            "414.jpg odissi\n",
            "386.jpg sattriya\n",
            "424.jpg manipuri\n",
            "157.jpg bharatanatyam\n",
            "33.jpg sattriya\n",
            "354.jpg sattriya\n",
            "57.jpg kathak\n",
            "108.jpg manipuri\n",
            "239.jpg kathakali\n",
            "441.jpg kathak\n",
            "215.jpg kathakali\n",
            "373.jpg kathak\n",
            "292.jpg mohiniyattam\n",
            "110.jpg manipuri\n",
            "510.jpg sattriya\n",
            "275.jpg sattriya\n",
            "366.jpg sattriya\n",
            "226.jpg sattriya\n",
            "35.jpg kathak\n",
            "458.jpg odissi\n",
            "358.jpg sattriya\n"
          ],
          "name": "stdout"
        }
      ]
    },
    {
      "cell_type": "code",
      "metadata": {
        "id": "acE_1T-PB_76"
      },
      "source": [
        "from IPython.display import HTML\n",
        "import pandas as pd\n",
        "import numpy as np\n",
        "import base64\n",
        "\n",
        "# function that takes in a dataframe and creates a text link to  \n",
        "# download it (will only work for files < 2MB or so)\n",
        "def create_download_link(df, title = \"Download CSV file\", filename = \"test-predictions.csv\"):  \n",
        "    csv = df.to_csv(index = False)\n",
        "    b64 = base64.b64encode(csv.encode())\n",
        "    payload = b64.decode()\n",
        "    html = '<a download=\"{filename}\" href=\"data:text/csv;base64,{payload}\" target=\"_blank\">{title}</a>'\n",
        "    html = html.format(payload=payload,title=title,filename=filename)\n",
        "    return HTML(html)\n",
        "\n"
      ],
      "execution_count": null,
      "outputs": []
    },
    {
      "cell_type": "code",
      "metadata": {
        "colab": {
          "base_uri": "https://localhost:8080/",
          "height": 35
        },
        "id": "wf1DeldhCWS0",
        "outputId": "1b40344d-8abf-46ed-cf36-ed779a1fde3d"
      },
      "source": [
        "create_download_link(test_predictions)"
      ],
      "execution_count": null,
      "outputs": [
        {
          "output_type": "execute_result",
          "data": {
            "text/html": [
              "<a download=\"test-predictions.csv\" href=\"data:text/csv;base64,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\" target=\"_blank\">Download CSV file</a>"
            ],
            "text/plain": [
              "<IPython.core.display.HTML object>"
            ]
          },
          "metadata": {
            "tags": []
          },
          "execution_count": 455
        }
      ]
    }
  ]
}